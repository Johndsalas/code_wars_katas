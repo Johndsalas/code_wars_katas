{
 "cells": [
  {
   "cell_type": "code",
   "execution_count": 1,
   "metadata": {},
   "outputs": [],
   "source": [
    "from pprint import pprint\n",
    "\n",
    "import pandas as pd\n",
    "import numpy as np\n",
    "\n",
    "%matplotlib inline\n",
    "import matplotlib.pyplot as plt\n",
    "\n",
    "from prepare import basic_clean, lemmatize"
   ]
  },
  {
   "cell_type": "code",
   "execution_count": 2,
   "metadata": {},
   "outputs": [],
   "source": [
    "\"\"\"\n",
    "A module for obtaining repo readme and language data from the github API.\n",
    "Before using this module, read through it, and follow the instructions marked\n",
    "TODO.\n",
    "After doing so, run it like this:\n",
    "    python acquire.py\n",
    "To create the `data.json` file that contains the data.\n",
    "\"\"\"\n",
    "import os\n",
    "import json\n",
    "from typing import Dict, List, Optional, Union, cast\n",
    "import requests\n",
    "\n",
    "from env import github_token, github_username\n",
    "\n",
    "# TODO: Make a github personal access token.\n",
    "#     1. Go here and generate a personal access token https://github.com/settings/tokens\n",
    "#        You do _not_ need select any scopes, i.e. leave all the checkboxes unchecked\n",
    "#     2. Save it in your env.py file under the variable `github_token`\n",
    "# TODO: Add your github username to your env.py file under the variable `github_username`\n",
    "# TODO: Add more repositories to the `REPOS` list below.\n",
    "\n",
    "REPOS = [\n",
    "    \"gocodeup/codeup-setup-script\",\n",
    "    \"gocodeup/movies-application\",\n",
    "    \"torvalds/linux\",\n",
    "]\n",
    "\n",
    "headers = {\"Authorization\": f\"token {github_token}\", \"User-Agent\": github_username}\n",
    "\n",
    "if headers[\"Authorization\"] == \"token \" or headers[\"User-Agent\"] == \"\":\n",
    "    raise Exception(\n",
    "        \"You need to follow the instructions marked TODO in this script before trying to use it\"\n",
    "    )\n",
    "\n",
    "\n",
    "def github_api_request(url: str) -> Union[List, Dict]:\n",
    "    response = requests.get(url, headers=headers)\n",
    "    response_data = response.json()\n",
    "    if response.status_code != 200:\n",
    "        raise Exception(\n",
    "            f\"Error response from github api! status code: {response.status_code}, \"\n",
    "            f\"response: {json.dumps(response_data)}\"\n",
    "        )\n",
    "    return response_data\n",
    "\n",
    "\n",
    "def get_repo_language(repo: str) -> str:\n",
    "    url = f\"https://api.github.com/repos/{repo}\"\n",
    "    repo_info = github_api_request(url)\n",
    "    if type(repo_info) is dict:\n",
    "        repo_info = cast(Dict, repo_info)\n",
    "        return repo_info.get(\"language\", None)\n",
    "    raise Exception(\n",
    "        f\"Expecting a dictionary response from {url}, instead got {json.dumps(repo_info)}\"\n",
    "    )\n",
    "\n",
    "\n",
    "def get_repo_contents(repo: str) -> List[Dict[str, str]]:\n",
    "    url = f\"https://api.github.com/repos/{repo}/contents/\"\n",
    "    contents = github_api_request(url)\n",
    "    if type(contents) is list:\n",
    "        contents = cast(List, contents)\n",
    "        return contents\n",
    "    raise Exception(\n",
    "        f\"Expecting a list response from {url}, instead got {json.dumps(contents)}\"\n",
    "    )\n",
    "\n",
    "\n",
    "def get_readme_download_url(files: List[Dict[str, str]]) -> str:\n",
    "    \"\"\"\n",
    "    Takes in a response from the github api that lists the files in a repo and\n",
    "    returns the url that can be used to download the repo's README file.\n",
    "    \"\"\"\n",
    "    for file in files:\n",
    "        if file[\"name\"].lower().startswith(\"readme\"):\n",
    "            return file[\"download_url\"]\n",
    "    return \"\"\n",
    "\n",
    "\n",
    "def process_repo(repo: str) -> Dict[str, str]:\n",
    "    \"\"\"\n",
    "    Takes a repo name like \"gocodeup/codeup-setup-script\" and returns a\n",
    "    dictionary with the language of the repo and the readme contents.\n",
    "    \"\"\"\n",
    "    contents = get_repo_contents(repo)\n",
    "    readme_download_url = get_readme_download_url(contents)\n",
    "    if readme_download_url == \"\":\n",
    "        readme_contents = None\n",
    "    else:\n",
    "        readme_contents = requests.get(readme_download_url).text\n",
    "    return {\n",
    "        \"repo\": repo,\n",
    "        \"language\": get_repo_language(repo),\n",
    "        \"readme_contents\": readme_contents,\n",
    "    }\n",
    "\n",
    "\n",
    "def scrape_github_data() -> List[Dict[str, str]]:\n",
    "    \"\"\"\n",
    "    Loop through all of the repos and process them. Returns the processed data.\n",
    "    \"\"\"\n",
    "    return [process_repo(repo) for repo in REPOS]\n",
    "\n",
    "\n",
    "if __name__ == \"__main__\":\n",
    "    documents = scrape_github_data()\n",
    "    json.dump(documents, open(\"data.json\", \"w\"), indent=1)"
   ]
  },
  {
   "cell_type": "code",
   "execution_count": 5,
   "metadata": {},
   "outputs": [
    {
     "data": {
      "text/plain": [
       "[{'repo': 'gocodeup/codeup-setup-script',\n",
       "  'language': 'Shell',\n",
       "  'readme_contents': '# Codeup Setup Script\\n\\nSetup script for Codeup students\\' laptops to install the all the tools we will\\nneed for the java course. We will install the following:\\n\\n- [xcode](https://developer.apple.com/xcode/features/): command line tools for\\n  macs\\n- [brew](http://brew.sh/): package manager for macs\\n- [java](https://en.wikipedia.org/wiki/Java_(programming_language))\\n- [tomcat](http://tomcat.apache.org/): the java webserver\\n- [maven](https://maven.apache.org/): a java dependency and build management tool\\n- [mysql](https://www.mysql.com/): the database we\\'ll use for the class\\n- [node js](https://nodejs.org/en/): a JavaScript runtime outside of the browser\\n- [npm](https://www.npmjs.com/): a package manager for JavaScript\\n\\nIn addition, we will:\\n\\n- setup ssh keys for the student\\'s laptop and guide them through the process of\\n  linking their ssh key to their Github account.\\n- Setup a global gitignore file and set the default commit editor to `nano`\\n  (only if these are not already set)\\n\\n## For Students\\n\\nCopy and paste the following in your terminal:\\n\\n```\\nbash -c \"$(curl -sS https://raw.githubusercontent.com/gocodeup/codeup-setup-script/master/install.sh)\"\\n```\\n\\n## Note for Instructors\\n\\nIf students already have and `id_rsa` ssh key generated the script will *not*\\ntry to generate a new ones, and you will need to walk them through the process\\nof adding their existing key to Github.\\n\\nThe following should do the trick if they already have a ssh key pair, but it\\'s\\nnot wired up to Github.\\n\\n```bash\\npbcopy < ~/.ssh/id_rsa.pub\\nopen https://github.com/settings/ssh\\n```\\n'},\n",
       " {'repo': 'gocodeup/movies-application',\n",
       "  'language': 'JavaScript',\n",
       "  'readme_contents': '# Movies Application\\n\\nFor this project, we will be building a single page movie application (SPA). It\\nwill allow users to add, edit, and delete movies, as well as rate them. We will\\nbe using [`json-server`](https://github.com/typicode/json-server) to mock a\\ndatabase and our backend, so that we can just worry about the front end and AJAX\\nrequests.\\n\\nThe webpack dev server is configured to watch for changes both in the javascript\\nsource, as well as the `public` directory. Whenever changes are detected, the\\npage will be reloaded. It will also proxy any requests that start with `/api` to\\nlocalhost:3000, which is where json-server is configured run.\\n\\n`json-server` is configured to have a delay of 1.2 seconds, so you can see what\\nyour application might actually look like, instead of serving instantaneous\\nreponses. You can modify this behavior by changing (or removing) the number\\nafter the `-d` flag inside of the npm `dev` script.\\n\\n## Setup\\n\\n1. Fork this repository to your own github account or your github organization.\\n\\n1. Clone your fork locally into your computer.\\n\\n1. Run `npm install`\\n\\n1. Run `npm run build`\\n\\n1. Run `npm run dev` and visit\\n   [http://localhost:1313/](http://localhost:1313/) in your browser. Open up\\n   the console and inspect the output.\\n\\n## Development\\n\\nIn general, you should have the development web server (`npm run dev`) running\\nwhile you are working on the project. You should view your project through\\nhttp://localhost:1313, **not** from IntelliJ\\'s web server, or by dragging the\\nfile(s) into chrome. As you make changes to your source files, all you need to\\ndo is save the file, and the website will be live reloaded.\\n\\nTake a look at the `src/index.js` file to get started. You will notice it has\\nexamples of importing and requiring separate javascript files. Regardless of\\nwhich you choose to use, you should pick one and use it throughout your code\\nbase, don\\'t mix and match the two.\\n\\nThe file `src/api.js` also contains an example api request. You can\\nreference this to get started building out the parts of your application that\\ninteract with the api.\\n\\nThe `db.json` file contains your \"database\". You can edit this file directly to\\nmake changes to your data, and this file will be updated if you make api\\nrequests that modify the data.\\n\\nThe server will serve files from the `public` directory, meaning any files\\noutside of `public` will not be visible. This means if you have any frontend\\nassets (e.g. bootstrap, or images) they will need to be in the `public`\\ndirectory.\\n\\n## Specification\\n\\nYour application should:\\n\\nOn page load:\\n\\n- Display a \"loading...\" message\\n- Make an ajax request to get a listing of all the movies\\n- When the initial ajax request comes back, remove the \"loading...\" message\\n  and replace it with HTML generated from the json response your code\\n  receives\\n\\nAllow users to add new movies\\n\\n- Create a form for adding a new movie that has fields for the movie\\'s title\\n  and rating\\n- When the form is submitted, the page should **not** reload / refresh,\\n  instead, your javascript should make a POST request to `/api/movies` with the\\n  information the user put into the form\\n\\nAllow users to edit existing movies\\n\\n- Give users the option to edit an existing movie\\n- A form should be pre-populated with the selected movie\\'s details\\n- Like creating a movie, this should not involve any page reloads, instead\\n  your javascript code should make an ajax request when the form is\\n  submitted.\\n\\nDelete movies\\n\\n- Each movie should have a \"delete\" button\\n- When this button is clicked, your javascript should send a `DELETE` request\\n\\n### Bonuses\\n\\n- Add a `disabled` attribute to buttons while their corresponding ajax request\\n  is still pending.\\n- Show a loading animation instead of just text that says \"loading...\"\\n- Use modals for the creating and editing movie forms\\n- Add a `genre` property to every movie\\n- Allow users to sort the movies by rating, title, or genre (if you have it)\\n- Allow users to search through the movies by rating, title, or genre (if you\\n  have it)\\n\\n## Helpful Hints\\n\\n- The id property of every movie should not be edited by hand. The purpose of\\n  this property is to uniquely identify that particular movie. That is, if we\\n  want to delete or modify an existing movie, we can specify what movie we want\\n  to change by referencing it\\'s id. When a new movie is created (i.e.  when you\\n  send a `POST` request to `/api/movies` with a title and a rating), the server\\n  will respond with the movie object that was created, including a generated id.\\n- Take a look at the other branches in this repository, as they have\\n  configuration/setup for common scenarios, such as including bootstrap in your\\n  application.\\n'},\n",
       " {'repo': 'torvalds/linux',\n",
       "  'language': 'C',\n",
       "  'readme_contents': 'Linux kernel\\n============\\n\\nThere are several guides for kernel developers and users. These guides can\\nbe rendered in a number of formats, like HTML and PDF. Please read\\nDocumentation/admin-guide/README.rst first.\\n\\nIn order to build the documentation, use ``make htmldocs`` or\\n``make pdfdocs``.  The formatted documentation can also be read online at:\\n\\n    https://www.kernel.org/doc/html/latest/\\n\\nThere are various text files in the Documentation/ subdirectory,\\nseveral of them using the Restructured Text markup notation.\\n\\nPlease read the Documentation/process/changes.rst file, as it contains the\\nrequirements for building and running the kernel, and information about\\nthe problems which may result by upgrading your kernel.\\n'}]"
      ]
     },
     "execution_count": 5,
     "metadata": {},
     "output_type": "execute_result"
    }
   ],
   "source": [
    "documents"
   ]
  },
  {
   "cell_type": "code",
   "execution_count": 38,
   "metadata": {},
   "outputs": [
    {
     "data": {
      "text/plain": [
       "{'repo': 'gocodeup/codeup-setup-script',\n",
       " 'language': 'Shell',\n",
       " 'readme_contents': '# Codeup Setup Script\\n\\nSetup script for Codeup students\\' laptops to install the all the tools we will\\nneed for the java course. We will install the following:\\n\\n- [xcode](https://developer.apple.com/xcode/features/): command line tools for\\n  macs\\n- [brew](http://brew.sh/): package manager for macs\\n- [java](https://en.wikipedia.org/wiki/Java_(programming_language))\\n- [tomcat](http://tomcat.apache.org/): the java webserver\\n- [maven](https://maven.apache.org/): a java dependency and build management tool\\n- [mysql](https://www.mysql.com/): the database we\\'ll use for the class\\n- [node js](https://nodejs.org/en/): a JavaScript runtime outside of the browser\\n- [npm](https://www.npmjs.com/): a package manager for JavaScript\\n\\nIn addition, we will:\\n\\n- setup ssh keys for the student\\'s laptop and guide them through the process of\\n  linking their ssh key to their Github account.\\n- Setup a global gitignore file and set the default commit editor to `nano`\\n  (only if these are not already set)\\n\\n## For Students\\n\\nCopy and paste the following in your terminal:\\n\\n```\\nbash -c \"$(curl -sS https://raw.githubusercontent.com/gocodeup/codeup-setup-script/master/install.sh)\"\\n```\\n\\n## Note for Instructors\\n\\nIf students already have and `id_rsa` ssh key generated the script will *not*\\ntry to generate a new ones, and you will need to walk them through the process\\nof adding their existing key to Github.\\n\\nThe following should do the trick if they already have a ssh key pair, but it\\'s\\nnot wired up to Github.\\n\\n```bash\\npbcopy < ~/.ssh/id_rsa.pub\\nopen https://github.com/settings/ssh\\n```\\n'}"
      ]
     },
     "execution_count": 38,
     "metadata": {},
     "output_type": "execute_result"
    }
   ],
   "source": [
    "len(documents)\n",
    "\n",
    "documents[0]"
   ]
  },
  {
   "cell_type": "code",
   "execution_count": 43,
   "metadata": {},
   "outputs": [
    {
     "ename": "NameError",
     "evalue": "name 'text' is not defined",
     "output_type": "error",
     "traceback": [
      "\u001b[0;31m---------------------------------------------------------------------------\u001b[0m",
      "\u001b[0;31mNameError\u001b[0m                                 Traceback (most recent call last)",
      "\u001b[0;32m<ipython-input-43-95f681034aa2>\u001b[0m in \u001b[0;36m<module>\u001b[0;34m\u001b[0m\n\u001b[0;32m----> 1\u001b[0;31m \u001b[0mstuff\u001b[0m \u001b[0;34m=\u001b[0m \u001b[0;34m{\u001b[0m\u001b[0mtext\u001b[0m\u001b[0;34m:\u001b[0m \u001b[0mdocument\u001b[0m\u001b[0;34m[\u001b[0m\u001b[0;34m'readme_contents'\u001b[0m\u001b[0;34m]\u001b[0m \u001b[0;32mfor\u001b[0m \u001b[0mdocument\u001b[0m \u001b[0;32min\u001b[0m \u001b[0mdocuments\u001b[0m\u001b[0;34m}\u001b[0m\u001b[0;34m\u001b[0m\u001b[0;34m\u001b[0m\u001b[0m\n\u001b[0m",
      "\u001b[0;32m<ipython-input-43-95f681034aa2>\u001b[0m in \u001b[0;36m<dictcomp>\u001b[0;34m(.0)\u001b[0m\n\u001b[0;32m----> 1\u001b[0;31m \u001b[0mstuff\u001b[0m \u001b[0;34m=\u001b[0m \u001b[0;34m{\u001b[0m\u001b[0mtext\u001b[0m\u001b[0;34m:\u001b[0m \u001b[0mdocument\u001b[0m\u001b[0;34m[\u001b[0m\u001b[0;34m'readme_contents'\u001b[0m\u001b[0;34m]\u001b[0m \u001b[0;32mfor\u001b[0m \u001b[0mdocument\u001b[0m \u001b[0;32min\u001b[0m \u001b[0mdocuments\u001b[0m\u001b[0;34m}\u001b[0m\u001b[0;34m\u001b[0m\u001b[0;34m\u001b[0m\u001b[0m\n\u001b[0m",
      "\u001b[0;31mNameError\u001b[0m: name 'text' is not defined"
     ]
    }
   ],
   "source": [
    "stuff = {text: document['readme_contents'] for document in documents}"
   ]
  },
  {
   "cell_type": "code",
   "execution_count": 34,
   "metadata": {},
   "outputs": [
    {
     "name": "stdout",
     "output_type": "stream",
     "text": [
      "\n",
      "Cleaning and lemmatizing...\n",
      "\n"
     ]
    },
    {
     "ename": "KeyError",
     "evalue": "2",
     "output_type": "error",
     "traceback": [
      "\u001b[0;31m---------------------------------------------------------------------------\u001b[0m",
      "\u001b[0;31mKeyError\u001b[0m                                  Traceback (most recent call last)",
      "\u001b[0;32m<ipython-input-34-966563b8dd12>\u001b[0m in \u001b[0;36m<module>\u001b[0;34m\u001b[0m\n\u001b[1;32m      1\u001b[0m \u001b[0mprint\u001b[0m\u001b[0;34m(\u001b[0m\u001b[0;34m'\\nCleaning and lemmatizing...\\n'\u001b[0m\u001b[0;34m)\u001b[0m\u001b[0;34m\u001b[0m\u001b[0;34m\u001b[0m\u001b[0m\n\u001b[1;32m      2\u001b[0m \u001b[0;34m\u001b[0m\u001b[0m\n\u001b[0;32m----> 3\u001b[0;31m \u001b[0mdocuments\u001b[0m \u001b[0;34m=\u001b[0m \u001b[0;34m{\u001b[0m\u001b[0mtext\u001b[0m\u001b[0;34m:\u001b[0m \u001b[0mlemmatize\u001b[0m\u001b[0;34m(\u001b[0m\u001b[0mbasic_clean\u001b[0m\u001b[0;34m(\u001b[0m\u001b[0mtopic\u001b[0m\u001b[0;34m[\u001b[0m\u001b[0;36m2\u001b[0m\u001b[0;34m]\u001b[0m\u001b[0;34m)\u001b[0m\u001b[0;34m)\u001b[0m \u001b[0;32mfor\u001b[0m \u001b[0mtopic\u001b[0m \u001b[0;32min\u001b[0m \u001b[0mdocuments\u001b[0m\u001b[0;34m}\u001b[0m\u001b[0;34m\u001b[0m\u001b[0;34m\u001b[0m\u001b[0m\n\u001b[0m\u001b[1;32m      4\u001b[0m \u001b[0;34m\u001b[0m\u001b[0m\n\u001b[1;32m      5\u001b[0m \u001b[0mpprint\u001b[0m\u001b[0;34m(\u001b[0m\u001b[0mdocuments\u001b[0m\u001b[0;34m)\u001b[0m\u001b[0;34m\u001b[0m\u001b[0;34m\u001b[0m\u001b[0m\n",
      "\u001b[0;32m<ipython-input-34-966563b8dd12>\u001b[0m in \u001b[0;36m<dictcomp>\u001b[0;34m(.0)\u001b[0m\n\u001b[1;32m      1\u001b[0m \u001b[0mprint\u001b[0m\u001b[0;34m(\u001b[0m\u001b[0;34m'\\nCleaning and lemmatizing...\\n'\u001b[0m\u001b[0;34m)\u001b[0m\u001b[0;34m\u001b[0m\u001b[0;34m\u001b[0m\u001b[0m\n\u001b[1;32m      2\u001b[0m \u001b[0;34m\u001b[0m\u001b[0m\n\u001b[0;32m----> 3\u001b[0;31m \u001b[0mdocuments\u001b[0m \u001b[0;34m=\u001b[0m \u001b[0;34m{\u001b[0m\u001b[0mtext\u001b[0m\u001b[0;34m:\u001b[0m \u001b[0mlemmatize\u001b[0m\u001b[0;34m(\u001b[0m\u001b[0mbasic_clean\u001b[0m\u001b[0;34m(\u001b[0m\u001b[0mtopic\u001b[0m\u001b[0;34m[\u001b[0m\u001b[0;36m2\u001b[0m\u001b[0;34m]\u001b[0m\u001b[0;34m)\u001b[0m\u001b[0;34m)\u001b[0m \u001b[0;32mfor\u001b[0m \u001b[0mtopic\u001b[0m \u001b[0;32min\u001b[0m \u001b[0mdocuments\u001b[0m\u001b[0;34m}\u001b[0m\u001b[0;34m\u001b[0m\u001b[0;34m\u001b[0m\u001b[0m\n\u001b[0m\u001b[1;32m      4\u001b[0m \u001b[0;34m\u001b[0m\u001b[0m\n\u001b[1;32m      5\u001b[0m \u001b[0mpprint\u001b[0m\u001b[0;34m(\u001b[0m\u001b[0mdocuments\u001b[0m\u001b[0;34m)\u001b[0m\u001b[0;34m\u001b[0m\u001b[0;34m\u001b[0m\u001b[0m\n",
      "\u001b[0;31mKeyError\u001b[0m: 2"
     ]
    }
   ],
   "source": [
    "print('\\nCleaning and lemmatizing...\\n')\n",
    "\n",
    "documents = {text: lemmatize(basic_clean(topic[2])) for topic in documents}\n",
    "\n",
    "pprint(documents)"
   ]
  },
  {
   "cell_type": "code",
   "execution_count": 27,
   "metadata": {},
   "outputs": [
    {
     "ename": "AttributeError",
     "evalue": "'str' object has no attribute 'unique'",
     "output_type": "error",
     "traceback": [
      "\u001b[0;31m---------------------------------------------------------------------------\u001b[0m",
      "\u001b[0;31mAttributeError\u001b[0m                            Traceback (most recent call last)",
      "\u001b[0;32m<ipython-input-27-a4f7b1554f89>\u001b[0m in \u001b[0;36m<module>\u001b[0;34m\u001b[0m\n\u001b[1;32m      6\u001b[0m \u001b[0;34m\u001b[0m\u001b[0m\n\u001b[1;32m      7\u001b[0m \u001b[0;31m# Get a list of the unique words\u001b[0m\u001b[0;34m\u001b[0m\u001b[0;34m\u001b[0m\u001b[0;34m\u001b[0m\u001b[0m\n\u001b[0;32m----> 8\u001b[0;31m \u001b[0munique_words\u001b[0m \u001b[0;34m=\u001b[0m \u001b[0mpd\u001b[0m\u001b[0;34m.\u001b[0m\u001b[0mSeries\u001b[0m\u001b[0;34m(\u001b[0m\u001b[0;34m' '\u001b[0m\u001b[0;34m.\u001b[0m\u001b[0mjoin\u001b[0m\u001b[0;34m(\u001b[0m\u001b[0mwords\u001b[0m\u001b[0;34m.\u001b[0m\u001b[0msplit\u001b[0m\u001b[0;34m(\u001b[0m\u001b[0;34m)\u001b[0m\u001b[0;34m)\u001b[0m\u001b[0;34m.\u001b[0m\u001b[0munique\u001b[0m\u001b[0;34m(\u001b[0m\u001b[0;34m)\u001b[0m\u001b[0;34m)\u001b[0m\u001b[0;34m\u001b[0m\u001b[0;34m\u001b[0m\u001b[0m\n\u001b[0m\u001b[1;32m      9\u001b[0m \u001b[0;34m\u001b[0m\u001b[0m\n\u001b[1;32m     10\u001b[0m \u001b[0;31m# put the unique words into a data frame\u001b[0m\u001b[0;34m\u001b[0m\u001b[0;34m\u001b[0m\u001b[0;34m\u001b[0m\u001b[0m\n",
      "\u001b[0;31mAttributeError\u001b[0m: 'str' object has no attribute 'unique'"
     ]
    }
   ],
   "source": [
    "# A simple way to calculate idf for demonstration. Note that this\n",
    "# function relies on the globally defined documents variable.\n",
    "def idf(word):\n",
    "    n_occurences = sum([1 for doc in documents.values() if word in doc])\n",
    "    return len(documents) / n_occurences\n",
    "\n",
    "# Get a list of the unique words\n",
    "unique_words = pd.Series(' '.join(words.split()).unique())\n",
    "\n",
    "# put the unique words into a data frame\n",
    "(pd.DataFrame(dict(word=unique_words))\n",
    " # calculate the idf for each word\n",
    " .assign(idf=lambda df: df.word.apply(idf))\n",
    " # sort the data for presentation purposes\n",
    " .set_index('word')\n",
    " .sort_values(by='idf', ascending=False)\n",
    " .head(5))"
   ]
  },
  {
   "cell_type": "code",
   "execution_count": null,
   "metadata": {},
   "outputs": [],
   "source": []
  }
 ],
 "metadata": {
  "kernelspec": {
   "display_name": "Python 3",
   "language": "python",
   "name": "python3"
  },
  "language_info": {
   "codemirror_mode": {
    "name": "ipython",
    "version": 3
   },
   "file_extension": ".py",
   "mimetype": "text/x-python",
   "name": "python",
   "nbconvert_exporter": "python",
   "pygments_lexer": "ipython3",
   "version": "3.7.4"
  }
 },
 "nbformat": 4,
 "nbformat_minor": 2
}
