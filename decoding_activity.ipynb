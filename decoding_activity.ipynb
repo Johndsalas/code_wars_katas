{
 "cells": [
  {
   "cell_type": "code",
   "execution_count": 1,
   "metadata": {},
   "outputs": [],
   "source": [
    "message = \"this is the message okay\""
   ]
  },
  {
   "cell_type": "markdown",
   "metadata": {},
   "source": [
    "## Encryption 1: Swap the first and last letter in each word\n"
   ]
  },
  {
   "cell_type": "code",
   "execution_count": 2,
   "metadata": {},
   "outputs": [
    {
     "data": {
      "text/plain": [
       "'shit si eht eessagm ykao'"
      ]
     },
     "execution_count": 2,
     "metadata": {},
     "output_type": "execute_result"
    }
   ],
   "source": [
    "def swap_first_and_last_word(message):  \n",
    "    \n",
    "    encrypted_message = ''\n",
    "    \n",
    "    message_list = message.split(' ')\n",
    "    \n",
    "    for word in message_list:\n",
    "    \n",
    "        start_letter = word[0]\n",
    "        \n",
    "        end_letter = word[-1]\n",
    "        \n",
    "        if len(word) > 2:\n",
    "        \n",
    "            other_letters = word[1:-1]\n",
    "            \n",
    "            new_word = end_letter + other_letters + start_letter + ' '\n",
    "            \n",
    "        elif len(word) == 2:\n",
    "            \n",
    "            new_word = end_letter + start_letter + ' '\n",
    "            \n",
    "        else:\n",
    "            \n",
    "            new_word = word + ' '\n",
    "            \n",
    "        encrypted_message += new_word\n",
    "\n",
    "    return encrypted_message.strip()\n",
    "    \n",
    "swap_first_and_last_word(message)"
   ]
  },
  {
   "cell_type": "markdown",
   "metadata": {},
   "source": [
    "## Running the function a second time will decrypt the message"
   ]
  },
  {
   "cell_type": "code",
   "execution_count": 3,
   "metadata": {},
   "outputs": [
    {
     "data": {
      "text/plain": [
       "'this is the message okay'"
      ]
     },
     "execution_count": 3,
     "metadata": {},
     "output_type": "execute_result"
    }
   ],
   "source": [
    "swap_first_and_last_word(swap_first_and_last_word(message))"
   ]
  },
  {
   "cell_type": "markdown",
   "metadata": {},
   "source": [
    "## Encryption 2: Swap every two words"
   ]
  },
  {
   "cell_type": "code",
   "execution_count": 10,
   "metadata": {},
   "outputs": [
    {
     "data": {
      "text/plain": [
       "'si shit eessagm eht ykao'"
      ]
     },
     "execution_count": 10,
     "metadata": {},
     "output_type": "execute_result"
    }
   ],
   "source": [
    "message = \"this is the message okay\"\n",
    "message = swap_first_and_last_word(message)\n",
    "\n",
    "def swap_every_two_words(message):\n",
    "\n",
    "    encrypted_message =''\n",
    "\n",
    "    message_list = message.split(' ')\n",
    "\n",
    "    duo = []\n",
    "\n",
    "    for word in message_list:\n",
    "\n",
    "        duo.append(word)   \n",
    "\n",
    "        if len(duo) == 2:\n",
    "\n",
    "            duo.reverse()\n",
    "\n",
    "            for word in duo:\n",
    "\n",
    "                encrypted_message += word + ' '\n",
    "\n",
    "            duo = []\n",
    "\n",
    "    if len(message_list) % 2 != 0:\n",
    "\n",
    "        encrypted_message += duo[0]\n",
    "\n",
    "    return encrypted_message\n",
    "\n",
    "swap_every_two_words(message)"
   ]
  },
  {
   "cell_type": "markdown",
   "metadata": {},
   "source": [
    "## Encryption 3: Multiply letters"
   ]
  },
  {
   "cell_type": "code",
   "execution_count": 14,
   "metadata": {},
   "outputs": [
    {
     "data": {
      "text/plain": [
       "'sssiii@ssshhhiiittt@eeeeeessssssaaagggmmm@eeehhhttt@yyykkkaaaooo'"
      ]
     },
     "execution_count": 14,
     "metadata": {},
     "output_type": "execute_result"
    }
   ],
   "source": [
    "message = \"this is the message okay\"\n",
    "message = swap_first_and_last_word(message)\n",
    "message = swap_every_two_words(message)\n",
    "\n",
    "encrypted_message = ''\n",
    "\n",
    "for letter in message:\n",
    "    \n",
    "    if letter.isalpha():\n",
    "        \n",
    "        new_char = letter * 3\n",
    "    \n",
    "    else:\n",
    "        \n",
    "        new_char = '@'\n",
    "    \n",
    "    encrypted_message += new_char \n",
    "    \n",
    "encrypted_message"
   ]
  },
  {
   "cell_type": "markdown",
   "metadata": {},
   "source": [
    "## Encryption 4: Reverse letters in message"
   ]
  },
  {
   "cell_type": "code",
   "execution_count": null,
   "metadata": {},
   "outputs": [],
   "source": []
  },
  {
   "cell_type": "markdown",
   "metadata": {},
   "source": [
    "## Encryption 5: Swap the first and last words of the message"
   ]
  },
  {
   "cell_type": "markdown",
   "metadata": {},
   "source": [
    "## Encryption 6: shift alphabet 3 letters "
   ]
  },
  {
   "cell_type": "code",
   "execution_count": null,
   "metadata": {},
   "outputs": [],
   "source": []
  }
 ],
 "metadata": {
  "kernelspec": {
   "display_name": "Python 3",
   "language": "python",
   "name": "python3"
  },
  "language_info": {
   "codemirror_mode": {
    "name": "ipython",
    "version": 3
   },
   "file_extension": ".py",
   "mimetype": "text/x-python",
   "name": "python",
   "nbconvert_exporter": "python",
   "pygments_lexer": "ipython3",
   "version": "3.7.4"
  }
 },
 "nbformat": 4,
 "nbformat_minor": 4
}
