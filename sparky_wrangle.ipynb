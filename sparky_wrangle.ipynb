{
 "cells": [
  {
   "cell_type": "code",
   "execution_count": 1,
   "metadata": {},
   "outputs": [
    {
     "name": "stdout",
     "output_type": "stream",
     "text": [
      "+---------+----------------+\n",
      "|source_id| source_username|\n",
      "+---------+----------------+\n",
      "|   100137|Merlene Blodgett|\n",
      "+---------+----------------+\n",
      "only showing top 1 row\n",
      "\n",
      "-RECORD 0------------------------------------\n",
      " case_id              | 1014127332           \n",
      " case_opened_date     | 1/1/18 0:42          \n",
      " case_closed_date     | 1/1/18 12:29         \n",
      " SLA_due_date         | 9/26/20 0:42         \n",
      " case_late            | NO                   \n",
      " num_days_late        | -998.5087616000001   \n",
      " case_closed          | YES                  \n",
      " dept_division        | Field Operations     \n",
      " service_request_type | Stray Animal         \n",
      " SLA_days             | 999.0                \n",
      " case_status          | Closed               \n",
      " source_id            | svcCRMLS             \n",
      " request_address      | 2315  EL PASO ST,... \n",
      " council_district     | 5                    \n",
      "only showing top 1 row\n",
      "\n",
      "+---------------+----------------+----------------------+-------------------+\n",
      "|  dept_division|       dept_name|standardized_dept_name|dept_subject_to_SLA|\n",
      "+---------------+----------------+----------------------+-------------------+\n",
      "|311 Call Center|Customer Service|      Customer Service|                YES|\n",
      "+---------------+----------------+----------------------+-------------------+\n",
      "only showing top 1 row\n",
      "\n"
     ]
    }
   ],
   "source": [
    "# Data Acquisition\n",
    "# This exercises uses the case.csv, dept.csv, and source.csv files from the san antonio 311 call dataset.\n",
    "\n",
    "# Read the case, department, and source data into their own spark dataframes.\n",
    "\n",
    "import pyspark\n",
    "from pyspark.sql import SparkSession\n",
    "from pyspark.sql.functions import *\n",
    "\n",
    "conf = pyspark.SparkConf().set('spark.driver.host','127.0.0.1')\n",
    "sc = pyspark.SparkContext(master='local', appName='myAppName',conf=conf)\n",
    "\n",
    "\n",
    "spark = pyspark.sql.SparkSession.builder.getOrCreate()\n",
    "\n",
    "source = spark.read.csv(\"source.csv\", sep=\",\", header=True, inferSchema=True)\n",
    "\n",
    "case = spark.read.csv(\"case.csv\", sep=\",\", header=True, inferSchema=True)\n",
    "\n",
    "dept = spark.read.csv(\"dept.csv\", sep=\",\", header=True, inferSchema=True)\n",
    "\n",
    "source.show(1)\n",
    "\n",
    "case.show(1,vertical=True)\n",
    "\n",
    "dept.show(1)"
   ]
  },
  {
   "cell_type": "code",
   "execution_count": 2,
   "metadata": {},
   "outputs": [],
   "source": [
    "# Let's see how writing to the local disk works in spark:\n",
    "\n",
    "# Write the code necessary to store the source data in both csv and json format, \n",
    "# store these as sources_csv and sources_json\n",
    "# Inspect your folder structure. What do you notice?\n",
    "\n",
    "source.write.json(\"sources_json\", mode=\"overwrite\")\n",
    "\n",
    "source.write.csv(\"sources_csv\", mode=\"overwrite\")"
   ]
  },
  {
   "cell_type": "code",
   "execution_count": 3,
   "metadata": {},
   "outputs": [
    {
     "name": "stdout",
     "output_type": "stream",
     "text": [
      "+---------+--------------------+\n",
      "|source_id|     source_username|\n",
      "+---------+--------------------+\n",
      "|   103582|         Carmen Cura|\n",
      "|   106463|     Richard Sanchez|\n",
      "|   119403|      Betty De Hoyos|\n",
      "|   119555|      Socorro Quiara|\n",
      "|   119868| Michelle San Miguel|\n",
      "|   120752|      Eva T. Kleiber|\n",
      "|   124405|           Lori Lara|\n",
      "|   132408|       Leonard Silva|\n",
      "|   135723|        Amy Cardenas|\n",
      "|   136202|    Michelle Urrutia|\n",
      "|   136979|      Leticia Garcia|\n",
      "|   137943|    Pamela K. Baccus|\n",
      "|   138605|        Marisa Ozuna|\n",
      "|   138650|      Kimberly Green|\n",
      "|   138650|Kimberly Green-Woods|\n",
      "|   138793| Guadalupe Rodriguez|\n",
      "|   138810|       Tawona Martin|\n",
      "|   139342|     Jessica Mendoza|\n",
      "|   139344|        Isis Mendoza|\n",
      "|   139345|      Andrea Alvarez|\n",
      "+---------+--------------------+\n",
      "only showing top 20 rows\n",
      "\n"
     ]
    }
   ],
   "source": [
    "# Inspect the data in your dataframes. Are the data types appropriate? \n",
    "# Write the code necessary to cast the values to the appropriate types.\n",
    "\n",
    "from pyspark.sql.types import StructType, StructField, StringType\n",
    "\n",
    "schema = StructType(\n",
    "    [\n",
    "        StructField(\"source_id\", StringType()),\n",
    "        StructField(\"source_username\", StringType()),\n",
    "    ]\n",
    ")\n",
    "\n",
    "spark.read.csv(\"sources_csv\", header=True, schema=schema).show()"
   ]
  },
  {
   "cell_type": "code",
   "execution_count": 4,
   "metadata": {},
   "outputs": [
    {
     "name": "stdout",
     "output_type": "stream",
     "text": [
      "-RECORD 0------------------------------------\n",
      " case_id              | 1014127332           \n",
      " case_opened_date     | 1/1/18 0:42          \n",
      " case_closed_date     | 1/1/18 12:29         \n",
      " SLA_due_date         | 9/26/20 0:42         \n",
      " case_late            | NO                   \n",
      " num_days_late        | -998.5087616000001   \n",
      " case_closed          | YES                  \n",
      " dept_division        | Field Operations     \n",
      " service_request_type | Stray Animal         \n",
      " SLA_days             | 999.0                \n",
      " case_status          | Closed               \n",
      " source_id            | svcCRMLS             \n",
      " request_address      | 2315  EL PASO ST,... \n",
      " council_district     | 5                    \n",
      "-RECORD 1------------------------------------\n",
      " case_id              | 1014127333           \n",
      " case_opened_date     | 1/1/18 0:46          \n",
      " case_closed_date     | 1/3/18 8:11          \n",
      " SLA_due_date         | 1/5/18 8:30          \n",
      " case_late            | NO                   \n",
      " num_days_late        | -2.0126041669999997  \n",
      " case_closed          | YES                  \n",
      " dept_division        | Storm Water          \n",
      " service_request_type | Removal Of Obstru... \n",
      " SLA_days             | 4.322222222          \n",
      " case_status          | Closed               \n",
      " source_id            | svcCRMSS             \n",
      " request_address      | 2215  GOLIAD RD, ... \n",
      " council_district     | 3                    \n",
      "only showing top 2 rows\n",
      "\n"
     ]
    }
   ],
   "source": [
    "case.show(2, vertical=True)"
   ]
  },
  {
   "cell_type": "code",
   "execution_count": 5,
   "metadata": {},
   "outputs": [
    {
     "name": "stdout",
     "output_type": "stream",
     "text": [
      "+----------------+\n",
      "|longest_SLA_days|\n",
      "+----------------+\n",
      "|          1419.0|\n",
      "+----------------+\n",
      "\n"
     ]
    }
   ],
   "source": [
    "# How old is the latest (in terms of days past SLA) currently open issue? \n",
    "\n",
    "case.filter(case.case_closed==\"NO\").select(round(max(case.SLA_days)).alias(\"longest_SLA_days\")).show()\n",
    "\n"
   ]
  },
  {
   "cell_type": "code",
   "execution_count": 6,
   "metadata": {},
   "outputs": [
    {
     "name": "stdout",
     "output_type": "stream",
     "text": [
      "+----------------------------+\n",
      "|number of stray animal cases|\n",
      "+----------------------------+\n",
      "|                       26760|\n",
      "+----------------------------+\n",
      "\n"
     ]
    }
   ],
   "source": [
    "# How many Stray Animal cases are there?\n",
    "\n",
    "case.filter(case.service_request_type==\"Stray Animal\").select(count(case.service_request_type).alias(\"number of stray animal cases\")).show()"
   ]
  },
  {
   "cell_type": "code",
   "execution_count": 7,
   "metadata": {},
   "outputs": [
    {
     "name": "stdout",
     "output_type": "stream",
     "text": [
      "+------+\n",
      "| cases|\n",
      "+------+\n",
      "|113902|\n",
      "+------+\n",
      "\n"
     ]
    }
   ],
   "source": [
    "# How many service requests that are assigned to the Field Operations department (dept_division) \n",
    "# are not classified as \"Officer Standby\" request type (service_request_type)?\n",
    "\n",
    "case.filter(case.dept_division==\"Field Operations\").filter(case.service_request_type!=\"Officer Standby\").select(count(case.dept_division).alias(\"cases\")).show()\n"
   ]
  },
  {
   "cell_type": "code",
   "execution_count": 8,
   "metadata": {},
   "outputs": [
    {
     "data": {
      "text/plain": [
       "[('case_id', 'int'),\n",
       " ('case_opened_date', 'string'),\n",
       " ('case_closed_date', 'string'),\n",
       " ('SLA_due_date', 'string'),\n",
       " ('case_late', 'string'),\n",
       " ('num_days_late', 'double'),\n",
       " ('case_closed', 'string'),\n",
       " ('dept_division', 'string'),\n",
       " ('service_request_type', 'string'),\n",
       " ('SLA_days', 'double'),\n",
       " ('case_status', 'string'),\n",
       " ('source_id', 'string'),\n",
       " ('request_address', 'string'),\n",
       " ('council_district', 'string')]"
      ]
     },
     "execution_count": 8,
     "metadata": {},
     "output_type": "execute_result"
    }
   ],
   "source": [
    "# Convert the council_district column to a string column.\n",
    "\n",
    "case = case.withColumn(\"council_district\", col(\"council_district\").cast(\"string\"))\n",
    "\n",
    "case.dtypes"
   ]
  },
  {
   "cell_type": "code",
   "execution_count": 9,
   "metadata": {},
   "outputs": [
    {
     "name": "stdout",
     "output_type": "stream",
     "text": [
      "+----+\n",
      "|year|\n",
      "+----+\n",
      "|  18|\n",
      "|  18|\n",
      "|  18|\n",
      "|  18|\n",
      "|  18|\n",
      "|  18|\n",
      "|  18|\n",
      "|  18|\n",
      "|  18|\n",
      "|  18|\n",
      "|  18|\n",
      "|  18|\n",
      "|  18|\n",
      "|  18|\n",
      "|  18|\n",
      "|  18|\n",
      "|  18|\n",
      "|  18|\n",
      "|  18|\n",
      "|  18|\n",
      "+----+\n",
      "only showing top 20 rows\n",
      "\n"
     ]
    }
   ],
   "source": [
    "# Extract the year from the case_closed_date column. 1/1/18 0:46 \n",
    "\n",
    "case = case.withColumn(\"year\", regexp_extract(\"case_closed_date\", r\"\\d{1,2}/\\d{1,2}/(\\d{1,2})\", 1))\n",
    "\n",
    "case.select(case.year).show()"
   ]
  },
  {
   "cell_type": "code",
   "execution_count": 10,
   "metadata": {},
   "outputs": [
    {
     "name": "stdout",
     "output_type": "stream",
     "text": [
      "-RECORD 0------------------------------------\n",
      " case_id              | 1014127332           \n",
      " case_opened_date     | 1/1/18 0:42          \n",
      " case_closed_date     | 1/1/18 12:29         \n",
      " SLA_due_date         | 9/26/20 0:42         \n",
      " case_late            | NO                   \n",
      " num_days_late        | -998.5087616000001   \n",
      " case_closed          | YES                  \n",
      " dept_division        | Field Operations     \n",
      " service_request_type | Stray Animal         \n",
      " SLA_days             | 999.0                \n",
      " case_status          | Closed               \n",
      " source_id            | svcCRMLS             \n",
      " request_address      | 2315  EL PASO ST,... \n",
      " council_district     | 5                    \n",
      " year                 | 18                   \n",
      "only showing top 1 row\n",
      "\n"
     ]
    }
   ],
   "source": [
    "case.show(1, vertical=True)"
   ]
  },
  {
   "cell_type": "code",
   "execution_count": 11,
   "metadata": {},
   "outputs": [
    {
     "name": "stdout",
     "output_type": "stream",
     "text": [
      "-RECORD 0------------------------------------\n",
      " case_id              | 1014127332           \n",
      " case_opened_date     | 1/1/18 0:42          \n",
      " case_closed_date     | 1/1/18 12:29         \n",
      " SLA_due_date         | 9/26/20 0:42         \n",
      " case_late            | NO                   \n",
      " num_days_late        | -998.5087616000001   \n",
      " case_closed          | YES                  \n",
      " dept_division        | Field Operations     \n",
      " service_request_type | Stray Animal         \n",
      " SLA_days             | 999.0                \n",
      " case_status          | Closed               \n",
      " source_id            | svcCRMLS             \n",
      " request_address      | 2315  EL PASO ST,... \n",
      " council_district     | 5                    \n",
      " year                 | 18                   \n",
      " num_hours_late       | -23964.2102784       \n",
      "only showing top 1 row\n",
      "\n"
     ]
    }
   ],
   "source": [
    "# Convert num_days_late from days to hours in new columns num_hours_late.\n",
    "\n",
    "case.withColumn(\"num_hours_late\", case.num_days_late * 24).show(1,vertical=True)"
   ]
  },
  {
   "cell_type": "code",
   "execution_count": 12,
   "metadata": {},
   "outputs": [
    {
     "name": "stdout",
     "output_type": "stream",
     "text": [
      "-RECORD 0---------------------------\n",
      " source_id       | 100137           \n",
      " source_username | Merlene Blodgett \n",
      "only showing top 1 row\n",
      "\n",
      "-RECORD 0------------------------------------\n",
      " source_id            | 136202               \n",
      " source_username      | Michelle Urrutia     \n",
      " case_id              | 1014128056           \n",
      " case_opened_date     | 1/2/18 8:21          \n",
      " case_closed_date     | 1/10/18 8:39         \n",
      " SLA_due_date         | 1/5/18 8:30          \n",
      " case_late            | YES                  \n",
      " num_days_late        | 5.00681713           \n",
      " case_closed          | YES                  \n",
      " dept_division        | Waste Collection     \n",
      " service_request_type | Solid Waste Fees ... \n",
      " SLA_days             | 3.00619213           \n",
      " case_status          | Closed               \n",
      " source_id            | 136202               \n",
      " request_address      | 3214  STONEY FORK... \n",
      " council_district     | 10                   \n",
      " year                 | 18                   \n",
      "only showing top 1 row\n",
      "\n",
      "-RECORD 0--------------------------------------\n",
      " source_id              | 136202               \n",
      " source_username        | Michelle Urrutia     \n",
      " case_id                | 1014128056           \n",
      " case_opened_date       | 1/2/18 8:21          \n",
      " case_closed_date       | 1/10/18 8:39         \n",
      " SLA_due_date           | 1/5/18 8:30          \n",
      " case_late              | YES                  \n",
      " num_days_late          | 5.00681713           \n",
      " case_closed            | YES                  \n",
      " dept_division          | Waste Collection     \n",
      " service_request_type   | Solid Waste Fees ... \n",
      " SLA_days               | 3.00619213           \n",
      " case_status            | Closed               \n",
      " source_id              | 136202               \n",
      " request_address        | 3214  STONEY FORK... \n",
      " council_district       | 10                   \n",
      " year                   | 18                   \n",
      " dept_division          | Waste Collection     \n",
      " dept_name              | Solid Waste Manag... \n",
      " standardized_dept_name | Solid Waste          \n",
      " dept_subject_to_SLA    | YES                  \n",
      "only showing top 1 row\n",
      "\n"
     ]
    }
   ],
   "source": [
    "# Join the case data with the source and department data.\n",
    "\n",
    "source.show(1,vertical=True)\n",
    "\n",
    "source.join(case, on=source.source_id == case.source_id, how=\"left\").show(1,vertical=True)\n",
    "\n",
    "df = source.join(case, on=source.source_id == case.source_id, how=\"left\").join(dept, on=case.dept_division == dept.dept_division, how=\"left\").show(1,vertical=True)\n",
    "\n"
   ]
  },
  {
   "cell_type": "code",
   "execution_count": 13,
   "metadata": {},
   "outputs": [
    {
     "name": "stdout",
     "output_type": "stream",
     "text": [
      "-RECORD 0--------------------------------------\n",
      " source_id              | 136202               \n",
      " source_username        | Michelle Urrutia     \n",
      " case_id                | 1014128056           \n",
      " case_opened_date       | 1/2/18 8:21          \n",
      " case_closed_date       | 1/10/18 8:39         \n",
      " SLA_due_date           | 1/5/18 8:30          \n",
      " case_late              | YES                  \n",
      " num_days_late          | 5.00681713           \n",
      " case_closed            | YES                  \n",
      " dept_division          | Waste Collection     \n",
      " service_request_type   | Solid Waste Fees ... \n",
      " SLA_days               | 3.00619213           \n",
      " case_status            | Closed               \n",
      " source_id              | 136202               \n",
      " request_address        | 3214  STONEY FORK... \n",
      " council_district       | 10                   \n",
      " year                   | 18                   \n",
      " standardized_dept_name | Solid Waste          \n",
      " dept_subject_to_SLA    | YES                  \n",
      "only showing top 1 row\n",
      "\n"
     ]
    }
   ],
   "source": [
    "# Are there any cases that do not have a request source?\n",
    "\n",
    "df = source.join(case, on=source.source_id == case.source_id, how=\"left\").join(dept, on=case.dept_division == dept.dept_division, how=\"left\").drop(dept.dept_division).drop(dept.dept_name)\n",
    "\n",
    "\n",
    "df.show(1,vertical=True)"
   ]
  },
  {
   "cell_type": "code",
   "execution_count": 14,
   "metadata": {},
   "outputs": [
    {
     "name": "stdout",
     "output_type": "stream",
     "text": [
      "+--------------------+---------------------------+\n",
      "|service_request_type|count(service_request_type)|\n",
      "+--------------------+---------------------------+\n",
      "|           No Pickup|                      89210|\n",
      "|Overgrown Yard/Trash|                      66403|\n",
      "|        Bandit Signs|                      32968|\n",
      "|        Damaged Cart|                      31163|\n",
      "|Front Or Side Yar...|                      28920|\n",
      "|        Stray Animal|                      27361|\n",
      "|Aggressive Animal...|                      25492|\n",
      "|Cart Exchange Req...|                      22608|\n",
      "|Junk Vehicle On P...|                      21649|\n",
      "|     Pot Hole Repair|                      20827|\n",
      "+--------------------+---------------------------+\n",
      "only showing top 10 rows\n",
      "\n"
     ]
    }
   ],
   "source": [
    "# What are the top 10 service request types in terms of number of requests?\n",
    "\n",
    "from pyspark.sql.functions import asc, desc\n",
    "\n",
    "df.groupBy(\"service_request_type\").agg(count(\"service_request_type\")).sort(col(\"count(service_request_type)\").desc()).show(10)"
   ]
  },
  {
   "cell_type": "code",
   "execution_count": 15,
   "metadata": {},
   "outputs": [
    {
     "name": "stdout",
     "output_type": "stream",
     "text": [
      "+--------------------+-------------------+\n",
      "|service_request_type| avg(num_days_late)|\n",
      "+--------------------+-------------------+\n",
      "|  Engineering Design|      -1399.1272335|\n",
      "|Signal Timing Mod...| -1247.079779973214|\n",
      "|        Stray Animal| -998.8064665118961|\n",
      "|Major Park Improv...| -280.2546235360404|\n",
      "|Sidewalk Cost Sha...|-186.18202610536574|\n",
      "|Multi Tenant Exte...|-135.71588128047625|\n",
      "|   CPS Energy Towers|-129.84778717829744|\n",
      "|CPS Energy Wood P...| -129.3090520272121|\n",
      "|CPS Energy Metal ...|-129.17919786427768|\n",
      "|Multi Tenant Inte...| -125.1431856354651|\n",
      "+--------------------+-------------------+\n",
      "only showing top 10 rows\n",
      "\n"
     ]
    }
   ],
   "source": [
    "# What are the top 10 service request types in terms of average days late?\n",
    "\n",
    "df.groupBy(\"service_request_type\").agg(avg(\"num_days_late\")).sort(col(\"avg(num_days_late)\").asc()).na.drop().show(10)"
   ]
  },
  {
   "cell_type": "code",
   "execution_count": 16,
   "metadata": {},
   "outputs": [
    {
     "name": "stdout",
     "output_type": "stream",
     "text": [
      "+--------------------+-------------------+\n",
      "|       dept_division| avg(num_days_late)|\n",
      "+--------------------+-------------------+\n",
      "|Code Enforcement ...|  135.9285161247979|\n",
      "|        Reservations|        66.03116319|\n",
      "|     311 Call Center|  59.73709149630082|\n",
      "|Director's Office...|  37.57064670295009|\n",
      "|Engineering Division| 13.433724555869722|\n",
      "|               Shops|  9.641261768722691|\n",
      "|           Tree Crew| 4.7232828120653965|\n",
      "|         Solid Waste| 3.5190239198762248|\n",
      "|              Trades|  3.231977141276936|\n",
      "|Clean and Green N...|  1.691468919487805|\n",
      "|              Vector| -1.120653299322344|\n",
      "|    Facility License|-1.4126937702216642|\n",
      "|       Miscellaneous|-1.7218576838926671|\n",
      "|    Waste Collection| -2.170652238479893|\n",
      "|     Clean and Green| -2.557154979254144|\n",
      "|               Brush|-3.9857905714570987|\n",
      "| Food Establishments| -6.971552370451529|\n",
      "|  Signs and Markings| -7.448628001357727|\n",
      "|    Shops (Internal)|  -8.18626711987648|\n",
      "|         Storm Water|-14.055678397031905|\n",
      "+--------------------+-------------------+\n",
      "only showing top 20 rows\n",
      "\n"
     ]
    }
   ],
   "source": [
    "# Does number of days late depend on department?\n",
    "\n",
    "df.groupBy(\"dept_division\").agg(avg(\"num_days_late\")).sort(col(\"avg(num_days_late)\").desc()).na.drop().show(20)\n"
   ]
  },
  {
   "cell_type": "code",
   "execution_count": 17,
   "metadata": {},
   "outputs": [
    {
     "name": "stdout",
     "output_type": "stream",
     "text": [
      "+--------------------+--------------------+-------------------+\n",
      "|       dept_division|service_request_type| avg(num_days_late)|\n",
      "+--------------------+--------------------+-------------------+\n",
      "|Storm Water Engin...|  Engineering Design|      -1399.1272335|\n",
      "|             Signals|Signal Timing Mod...| -1247.079779973214|\n",
      "|    Field Operations|        Stray Animal| -998.8064665118961|\n",
      "|    Shops (Internal)|Major Park Improv...| -280.2546235360404|\n",
      "|             Streets|Sidewalk Cost Sha...|-186.18202610536574|\n",
      "|    Code Enforcement|Multi Tenant Exte...|-135.71588128047625|\n",
      "|   Graffiti (IntExp)|   CPS Energy Towers|-129.84778717829744|\n",
      "|   Graffiti (IntExp)|CPS Energy Wood P...| -129.3090520272121|\n",
      "|   Graffiti (IntExp)|CPS Energy Metal ...|-129.17919786427768|\n",
      "|    Code Enforcement|Multi Tenant Inte...| -125.1431856354651|\n",
      "|    Code Enforcement|Temporary Obstruc...|-119.75801638405598|\n",
      "|             Streets|Manhole Sunken/Ra...|-119.26001888622663|\n",
      "|Code Enforcement ...|Minimum Housing-O...|-118.65070390855338|\n",
      "|    Code Enforcement|Swim. Pool Inspec...|-116.57368566486653|\n",
      "|    Code Enforcement|   Water No Services|-113.65548952385757|\n",
      "|    Code Enforcement|Wasting Water (Le...|-113.58009828942566|\n",
      "|    Code Enforcement|Low Hanging Limbs...|-112.76506944236536|\n",
      "|    Code Enforcement|Zoning Business i...|-111.55088638720378|\n",
      "|Code Enforcement ...|Minimum Housing-T...|-110.84503020380855|\n",
      "|             Streets|Base/Pavement Repair|-109.97756630223759|\n",
      "+--------------------+--------------------+-------------------+\n",
      "only showing top 20 rows\n",
      "\n"
     ]
    }
   ],
   "source": [
    "# How do number of days late depend on department and request type?\n",
    "\n",
    "df.groupBy(\"dept_division\",\"service_request_type\").mean(\"num_days_late\").sort(col(\"avg(num_days_late)\").asc()).na.drop().show()"
   ]
  },
  {
   "cell_type": "code",
   "execution_count": null,
   "metadata": {},
   "outputs": [],
   "source": []
  }
 ],
 "metadata": {
  "kernelspec": {
   "display_name": "Python 3",
   "language": "python",
   "name": "python3"
  },
  "language_info": {
   "codemirror_mode": {
    "name": "ipython",
    "version": 3
   },
   "file_extension": ".py",
   "mimetype": "text/x-python",
   "name": "python",
   "nbconvert_exporter": "python",
   "pygments_lexer": "ipython3",
   "version": "3.7.4"
  }
 },
 "nbformat": 4,
 "nbformat_minor": 2
}
