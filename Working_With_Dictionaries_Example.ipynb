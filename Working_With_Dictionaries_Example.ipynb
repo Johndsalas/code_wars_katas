{
 "cells": [
  {
   "cell_type": "markdown",
   "metadata": {},
   "source": [
    "# Working with Dictionaries Example"
   ]
  },
  {
   "cell_type": "markdown",
   "metadata": {},
   "source": [
    "## Sample Dictionary"
   ]
  },
  {
   "cell_type": "code",
   "execution_count": 1,
   "metadata": {},
   "outputs": [],
   "source": [
    "shopping_cart = {\n",
    "                    \"tax\": .08,\n",
    "                    \"items\": [\n",
    "                                    {\n",
    "                                        \"title\": \"orange juice\",\n",
    "                                        \"price\": 3.99,\n",
    "                                        \"quantity\": 1\n",
    "                                    },\n",
    "                                    \n",
    "                                    {\n",
    "                                        \"title\": \"rice\",\n",
    "                                        \"price\": 1.99,\n",
    "                                        \"quantity\": 3\n",
    "                                    },\n",
    "                        \n",
    "                                    {\n",
    "                                        \"title\": \"beans\",\n",
    "                                        \"price\": 0.99,\n",
    "                                        \"quantity\": 3\n",
    "                                    },\n",
    "                        \n",
    "                                    {\n",
    "                                        \"title\": \"chili sauce\",\n",
    "                                        \"price\": 2.99,\n",
    "                                        \"quantity\": 1\n",
    "                                    },\n",
    "                        \n",
    "                                    {\n",
    "                                        \"title\": \"chocolate\",\n",
    "                                        \"price\": 0.75,\n",
    "                                        \"quantity\": 9\n",
    "                                    }\n",
    "                            ]\n",
    "                }"
   ]
  },
  {
   "cell_type": "markdown",
   "metadata": {},
   "source": [
    "# Problem Statement:\n",
    "\n",
    "## Write a function named get_average_spent_per_item that takes in the shopping cart and returns the average of summing each item's quanties times that item's price."
   ]
  },
  {
   "cell_type": "code",
   "execution_count": 4,
   "metadata": {},
   "outputs": [
    {
     "data": {
      "text/plain": [
       "3.99"
      ]
     },
     "execution_count": 4,
     "metadata": {},
     "output_type": "execute_result"
    }
   ],
   "source": [
    "# 0) Begin with the smallest part of the problem then work outward from there\n",
    "# 1) solve the problem with only one dictionary\n",
    "\n",
    "items = {\n",
    "            \"title\": \"orange juice\",\n",
    "            \"price\": 3.99,\n",
    "            \"quantity\": 1\n",
    "        }\n",
    "                                    \n",
    "\n",
    "\n",
    "    \n",
    "items[\"price\"] * items[\"quantity\"]\n",
    "\n",
    "\n",
    "\n"
   ]
  },
  {
   "cell_type": "code",
   "execution_count": 9,
   "metadata": {},
   "outputs": [
    {
     "name": "stdout",
     "output_type": "stream",
     "text": [
      "8.056666666666667\n"
     ]
    }
   ],
   "source": [
    "# 2) modify solution for full list of items\n",
    "\n",
    "\n",
    "items = [\n",
    "            {\n",
    "                \"title\": \"orange juice\",\n",
    "                \"price\": 3.99,\n",
    "                \"quantity\": 1\n",
    "            },\n",
    "\n",
    "            {\n",
    "                \"title\": \"rice\",\n",
    "                \"price\": 1.99,\n",
    "                \"quantity\": 3\n",
    "            },\n",
    "\n",
    "            {\n",
    "                \"title\": \"beans\",\n",
    "                \"price\": 0.99,\n",
    "                \"quantity\": 3\n",
    "            },\n",
    "\n",
    "            {\n",
    "                \"title\": \"chili sauce\",\n",
    "                \"price\": 2.99,\n",
    "                \"quantity\": 1\n",
    "            },\n",
    "\n",
    "            {\n",
    "                \"title\": \"chocolate\",\n",
    "                \"price\": 0.75,\n",
    "                \"quantity\": 9\n",
    "            }\n",
    "        ]\n",
    "\n",
    "total_cost = 0\n",
    "    \n",
    "for item in items:\n",
    "    \n",
    "    total_cost += item[\"price\"] / item[\"quantity\"]\n",
    "\n",
    "print(total_cost)"
   ]
  },
  {
   "cell_type": "code",
   "execution_count": 13,
   "metadata": {},
   "outputs": [
    {
     "name": "stdout",
     "output_type": "stream",
     "text": [
      "8.056666666666667\n"
     ]
    }
   ],
   "source": [
    "# 3) modify solution for full dictionary\n",
    "\n",
    "shopping_cart = {\n",
    "                    \"tax\": .08,\n",
    "                    \"items\": [\n",
    "                                    {\n",
    "                                        \"title\": \"orange juice\",\n",
    "                                        \"price\": 3.99,\n",
    "                                        \"quantity\": 1\n",
    "                                    },\n",
    "                                    \n",
    "                                    {\n",
    "                                        \"title\": \"rice\",\n",
    "                                        \"price\": 1.99,\n",
    "                                        \"quantity\": 3\n",
    "                                    },\n",
    "                        \n",
    "                                    {\n",
    "                                        \"title\": \"beans\",\n",
    "                                        \"price\": 0.99,\n",
    "                                        \"quantity\": 3\n",
    "                                    },\n",
    "                        \n",
    "                                    {\n",
    "                                        \"title\": \"chili sauce\",\n",
    "                                        \"price\": 2.99,\n",
    "                                        \"quantity\": 1\n",
    "                                    },\n",
    "                        \n",
    "                                    {\n",
    "                                        \"title\": \"chocolate\",\n",
    "                                        \"price\": 0.75,\n",
    "                                        \"quantity\": 9\n",
    "                                    }\n",
    "                            ]\n",
    "                }\n",
    "\n",
    "\n",
    "total_cost = 0\n",
    "    \n",
    "for item in shopping_cart[\"items\"]:\n",
    "    \n",
    "    total_cost += item[\"price\"] / item[\"quantity\"]\n",
    "\n",
    "print(total_cost)"
   ]
  },
  {
   "cell_type": "code",
   "execution_count": 15,
   "metadata": {},
   "outputs": [],
   "source": [
    "# 4) Write code as a function\n",
    "\n",
    "def get_average_spent_per_item(shopping_cart):\n",
    "\n",
    "    total_cost = 0\n",
    "\n",
    "    for item in shopping_cart[\"items\"]:\n",
    "\n",
    "        total_cost += item[\"price\"] / item[\"quantity\"]\n",
    "        \n",
    "    return total_cost"
   ]
  },
  {
   "cell_type": "code",
   "execution_count": 17,
   "metadata": {},
   "outputs": [
    {
     "data": {
      "text/plain": [
       "8.056666666666667"
      ]
     },
     "execution_count": 17,
     "metadata": {},
     "output_type": "execute_result"
    }
   ],
   "source": [
    "# 5) call function and check result\n",
    "\n",
    "get_average_spent_per_item(shopping_cart)"
   ]
  }
 ],
 "metadata": {
  "kernelspec": {
   "display_name": "Python 3",
   "language": "python",
   "name": "python3"
  },
  "language_info": {
   "codemirror_mode": {
    "name": "ipython",
    "version": 3
   },
   "file_extension": ".py",
   "mimetype": "text/x-python",
   "name": "python",
   "nbconvert_exporter": "python",
   "pygments_lexer": "ipython3",
   "version": "3.7.4"
  }
 },
 "nbformat": 4,
 "nbformat_minor": 2
}
