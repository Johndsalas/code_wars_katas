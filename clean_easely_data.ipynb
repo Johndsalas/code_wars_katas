{
 "cells": [
  {
   "cell_type": "code",
   "execution_count": 1,
   "metadata": {},
   "outputs": [],
   "source": [
    "import pandas as pd\n",
    "import re"
   ]
  },
  {
   "cell_type": "code",
   "execution_count": 2,
   "metadata": {},
   "outputs": [],
   "source": [
    "get = 'https://github.com/'"
   ]
  },
  {
   "cell_type": "code",
   "execution_count": 3,
   "metadata": {},
   "outputs": [
    {
     "data": {
      "text/html": [
       "<div>\n",
       "<style scoped>\n",
       "    .dataframe tbody tr th:only-of-type {\n",
       "        vertical-align: middle;\n",
       "    }\n",
       "\n",
       "    .dataframe tbody tr th {\n",
       "        vertical-align: top;\n",
       "    }\n",
       "\n",
       "    .dataframe thead th {\n",
       "        text-align: right;\n",
       "    }\n",
       "</style>\n",
       "<table border=\"1\" class=\"dataframe\">\n",
       "  <thead>\n",
       "    <tr style=\"text-align: right;\">\n",
       "      <th></th>\n",
       "      <th>information</th>\n",
       "    </tr>\n",
       "  </thead>\n",
       "  <tbody>\n",
       "    <tr>\n",
       "      <th>0</th>\n",
       "      <td>| 1257 | segovialori03@gmail.com              ...</td>\n",
       "    </tr>\n",
       "    <tr>\n",
       "      <th>1</th>\n",
       "      <td>| 1258 | keelersam@gmail.com                  ...</td>\n",
       "    </tr>\n",
       "    <tr>\n",
       "      <th>2</th>\n",
       "      <td>| 1259 | kenalviola@gmail.com                 ...</td>\n",
       "    </tr>\n",
       "    <tr>\n",
       "      <th>3</th>\n",
       "      <td>| 1260 | alicia.j.gonzalez01@gmail.com        ...</td>\n",
       "    </tr>\n",
       "    <tr>\n",
       "      <th>4</th>\n",
       "      <td>| 1261 | o0amandagomez0o@gmail.com            ...</td>\n",
       "    </tr>\n",
       "    <tr>\n",
       "      <th>5</th>\n",
       "      <td>| 1262 | matthew.w.dalton@gmail.com           ...</td>\n",
       "    </tr>\n",
       "    <tr>\n",
       "      <th>6</th>\n",
       "      <td>| 1263 | barbara.ann.marques@gmail.com        ...</td>\n",
       "    </tr>\n",
       "    <tr>\n",
       "      <th>7</th>\n",
       "      <td>| 1264 | david.a.berchelmann@gmail.com        ...</td>\n",
       "    </tr>\n",
       "    <tr>\n",
       "      <th>8</th>\n",
       "      <td>| 1265 | david.r.alviola@accenturefederal.com ...</td>\n",
       "    </tr>\n",
       "    <tr>\n",
       "      <th>9</th>\n",
       "      <td>| 1266 | gabriela.i.tijerina@gmail.com        ...</td>\n",
       "    </tr>\n",
       "    <tr>\n",
       "      <th>10</th>\n",
       "      <td>| 1267 | brandon.j.bryant1@gmail.com          ...</td>\n",
       "    </tr>\n",
       "    <tr>\n",
       "      <th>11</th>\n",
       "      <td>| 1268 | caitlyn.r.carney@gmail.com           ...</td>\n",
       "    </tr>\n",
       "    <tr>\n",
       "      <th>12</th>\n",
       "      <td>| 1269 | john.allen.grinstead@gmail.com       ...</td>\n",
       "    </tr>\n",
       "    <tr>\n",
       "      <th>13</th>\n",
       "      <td>| 1270 | sullivan.justin.michael@gmail.com    ...</td>\n",
       "    </tr>\n",
       "    <tr>\n",
       "      <th>14</th>\n",
       "      <td>| 1271 | stephen.x.kane@gmail.com             ...</td>\n",
       "    </tr>\n",
       "    <tr>\n",
       "      <th>15</th>\n",
       "      <td>| 1272 | Ljackson3613@yahoo.com               ...</td>\n",
       "    </tr>\n",
       "    <tr>\n",
       "      <th>16</th>\n",
       "      <td>| 1273 | gabriella.b.broussard@gmail.com      ...</td>\n",
       "    </tr>\n",
       "  </tbody>\n",
       "</table>\n",
       "</div>"
      ],
      "text/plain": [
       "                                          information\n",
       "0   | 1257 | segovialori03@gmail.com              ...\n",
       "1   | 1258 | keelersam@gmail.com                  ...\n",
       "2   | 1259 | kenalviola@gmail.com                 ...\n",
       "3   | 1260 | alicia.j.gonzalez01@gmail.com        ...\n",
       "4   | 1261 | o0amandagomez0o@gmail.com            ...\n",
       "5   | 1262 | matthew.w.dalton@gmail.com           ...\n",
       "6   | 1263 | barbara.ann.marques@gmail.com        ...\n",
       "7   | 1264 | david.a.berchelmann@gmail.com        ...\n",
       "8   | 1265 | david.r.alviola@accenturefederal.com ...\n",
       "9   | 1266 | gabriela.i.tijerina@gmail.com        ...\n",
       "10  | 1267 | brandon.j.bryant1@gmail.com          ...\n",
       "11  | 1268 | caitlyn.r.carney@gmail.com           ...\n",
       "12  | 1269 | john.allen.grinstead@gmail.com       ...\n",
       "13  | 1270 | sullivan.justin.michael@gmail.com    ...\n",
       "14  | 1271 | stephen.x.kane@gmail.com             ...\n",
       "15  | 1272 | Ljackson3613@yahoo.com               ...\n",
       "16  | 1273 | gabriella.b.broussard@gmail.com      ..."
      ]
     },
     "execution_count": 3,
     "metadata": {},
     "output_type": "execute_result"
    }
   ],
   "source": [
    "df = pd.read_excel('info.xlsx')\n",
    "df"
   ]
  },
  {
   "cell_type": "code",
   "execution_count": 4,
   "metadata": {},
   "outputs": [],
   "source": [
    "value = '| 1257 | segovialori03@gmail.com              | segovialori           | Lori Segovia        |'\n",
    "\n",
    "n = re.findall(r'\\w+\\s\\w+',value)[0]\n",
    "\n",
    "e = re.findall(r'\\S+@gmail.com',value)[0]\n",
    "\n",
    "get = re.findall(r'\\s(\\w+)\\s',value)[1]"
   ]
  },
  {
   "cell_type": "code",
   "execution_count": 5,
   "metadata": {},
   "outputs": [],
   "source": [
    "df['name'] = df.information.apply(lambda value : re.findall(r'\\w+\\s\\w+',value)[0])\n",
    "df['email'] = df.information.apply(lambda value : re.findall(r'\\S+@\\w+.com',value)[0])\n",
    "df['git_id'] = df.information.apply(lambda value : 'https://github.com/' + re.findall(r'\\s(\\w+)\\s',value)[1])\n",
    "df.drop(columns =['information'],inplace=True)"
   ]
  },
  {
   "cell_type": "code",
   "execution_count": 6,
   "metadata": {},
   "outputs": [
    {
     "data": {
      "text/html": [
       "<div>\n",
       "<style scoped>\n",
       "    .dataframe tbody tr th:only-of-type {\n",
       "        vertical-align: middle;\n",
       "    }\n",
       "\n",
       "    .dataframe tbody tr th {\n",
       "        vertical-align: top;\n",
       "    }\n",
       "\n",
       "    .dataframe thead th {\n",
       "        text-align: right;\n",
       "    }\n",
       "</style>\n",
       "<table border=\"1\" class=\"dataframe\">\n",
       "  <thead>\n",
       "    <tr style=\"text-align: right;\">\n",
       "      <th></th>\n",
       "      <th>name</th>\n",
       "      <th>email</th>\n",
       "      <th>git_id</th>\n",
       "    </tr>\n",
       "  </thead>\n",
       "  <tbody>\n",
       "    <tr>\n",
       "      <th>0</th>\n",
       "      <td>Lori Segovia</td>\n",
       "      <td>segovialori03@gmail.com</td>\n",
       "      <td>https://github.com/segovialori</td>\n",
       "    </tr>\n",
       "    <tr>\n",
       "      <th>1</th>\n",
       "      <td>Sam Keeler</td>\n",
       "      <td>keelersam@gmail.com</td>\n",
       "      <td>https://github.com/Sam</td>\n",
       "    </tr>\n",
       "    <tr>\n",
       "      <th>2</th>\n",
       "      <td>Ken Alviola</td>\n",
       "      <td>kenalviola@gmail.com</td>\n",
       "      <td>https://github.com/Ken</td>\n",
       "    </tr>\n",
       "    <tr>\n",
       "      <th>3</th>\n",
       "      <td>Alicia Gonzalez</td>\n",
       "      <td>alicia.j.gonzalez01@gmail.com</td>\n",
       "      <td>https://github.com/aliciag92</td>\n",
       "    </tr>\n",
       "    <tr>\n",
       "      <th>4</th>\n",
       "      <td>Amanda Gomez</td>\n",
       "      <td>o0amandagomez0o@gmail.com</td>\n",
       "      <td>https://github.com/o0amandagomez0o</td>\n",
       "    </tr>\n",
       "  </tbody>\n",
       "</table>\n",
       "</div>"
      ],
      "text/plain": [
       "              name                          email  \\\n",
       "0     Lori Segovia        segovialori03@gmail.com   \n",
       "1       Sam Keeler            keelersam@gmail.com   \n",
       "2      Ken Alviola           kenalviola@gmail.com   \n",
       "3  Alicia Gonzalez  alicia.j.gonzalez01@gmail.com   \n",
       "4     Amanda Gomez      o0amandagomez0o@gmail.com   \n",
       "\n",
       "                               git_id  \n",
       "0      https://github.com/segovialori  \n",
       "1              https://github.com/Sam  \n",
       "2              https://github.com/Ken  \n",
       "3        https://github.com/aliciag92  \n",
       "4  https://github.com/o0amandagomez0o  "
      ]
     },
     "execution_count": 6,
     "metadata": {},
     "output_type": "execute_result"
    }
   ],
   "source": [
    "df.head()"
   ]
  },
  {
   "cell_type": "code",
   "execution_count": 7,
   "metadata": {},
   "outputs": [],
   "source": [
    "df.to_excel(\"easely_info.xlsx\")"
   ]
  },
  {
   "cell_type": "code",
   "execution_count": null,
   "metadata": {},
   "outputs": [],
   "source": []
  }
 ],
 "metadata": {
  "kernelspec": {
   "display_name": "Python 3",
   "language": "python",
   "name": "python3"
  },
  "language_info": {
   "codemirror_mode": {
    "name": "ipython",
    "version": 3
   },
   "file_extension": ".py",
   "mimetype": "text/x-python",
   "name": "python",
   "nbconvert_exporter": "python",
   "pygments_lexer": "ipython3",
   "version": "3.7.4"
  }
 },
 "nbformat": 4,
 "nbformat_minor": 4
}
