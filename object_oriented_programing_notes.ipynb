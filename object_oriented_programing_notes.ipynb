{
 "cells": [
  {
   "cell_type": "code",
   "execution_count": 1,
   "metadata": {},
   "outputs": [
    {
     "name": "stdout",
     "output_type": "stream",
     "text": [
      "34\n",
      "24\n"
     ]
    }
   ],
   "source": [
    "# define class Dog\n",
    "class Dog:\n",
    "\n",
    "    # initialize class create variables\n",
    "    def __init__(self, name, age):\n",
    "        self.name = name\n",
    "        self.age = age\n",
    "\n",
    "    # create methods for use with class\n",
    "    def get_name(self):\n",
    "        return self.name\n",
    "\n",
    "    def get_age(self):\n",
    "        return self.age\n",
    "\n",
    "    def set_age(self,age):\n",
    "        self.age = age\n",
    "        \n",
    "# create one instance of Dog class as d\n",
    "d = Dog(\"tim\",34)\n",
    "\n",
    "# print call to get_age method on d\n",
    "print(d.get_age())\n",
    "\n",
    "# call set_age method on d\n",
    "d.set_age(24)\n",
    "\n",
    "# print call to get age method on d\n",
    "print(d.get_age())\n"
   ]
  },
  {
   "cell_type": "code",
   "execution_count": 2,
   "metadata": {},
   "outputs": [
    {
     "ename": "SyntaxError",
     "evalue": "invalid syntax (<ipython-input-2-83adb20cd31f>, line 3)",
     "output_type": "error",
     "traceback": [
      "\u001b[0;36m  File \u001b[0;32m\"<ipython-input-2-83adb20cd31f>\"\u001b[0;36m, line \u001b[0;32m3\u001b[0m\n\u001b[0;31m    def __init__(self,name.age,grade):\u001b[0m\n\u001b[0m                          ^\u001b[0m\n\u001b[0;31mSyntaxError\u001b[0m\u001b[0;31m:\u001b[0m invalid syntax\n"
     ]
    }
   ],
   "source": [
    "class Student:\n",
    "\n",
    "    def __init__(self,name,age,grade):\n",
    "        self.name = name\n",
    "        self.age = age\n",
    "        self.grade = grade\n",
    "        self.students = []\n",
    "        \n",
    "    def get_grade(self,grade):\n",
    "        return self.grade"
   ]
  },
  {
   "cell_type": "code",
   "execution_count": 3,
   "metadata": {},
   "outputs": [
    {
     "ename": "SyntaxError",
     "evalue": "invalid syntax (<ipython-input-3-ad6081022b8a>, line 3)",
     "output_type": "error",
     "traceback": [
      "\u001b[0;36m  File \u001b[0;32m\"<ipython-input-3-ad6081022b8a>\"\u001b[0;36m, line \u001b[0;32m3\u001b[0m\n\u001b[0;31m    def __init__(self,name,max_students)\u001b[0m\n\u001b[0m                                        ^\u001b[0m\n\u001b[0;31mSyntaxError\u001b[0m\u001b[0;31m:\u001b[0m invalid syntax\n"
     ]
    }
   ],
   "source": [
    "class Course:\n",
    "    \n",
    "    def __init__(self,name,max_students)\n",
    "        self.name = name\n",
    "        self.max_students = max_students\n",
    "        self.students = []"
   ]
  },
  {
   "cell_type": "code",
   "execution_count": null,
   "metadata": {},
   "outputs": [],
   "source": [
    "_"
   ]
  }
 ],
 "metadata": {
  "kernelspec": {
   "display_name": "Python 3",
   "language": "python",
   "name": "python3"
  },
  "language_info": {
   "codemirror_mode": {
    "name": "ipython",
    "version": 3
   },
   "file_extension": ".py",
   "mimetype": "text/x-python",
   "name": "python",
   "nbconvert_exporter": "python",
   "pygments_lexer": "ipython3",
   "version": "3.7.4"
  }
 },
 "nbformat": 4,
 "nbformat_minor": 2
}
