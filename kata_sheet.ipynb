{
 "cells": [
  {
   "cell_type": "markdown",
   "metadata": {},
   "source": [
    "# Snail Sort\n",
    "\n",
    "### Given an n x n array, return the array elements arranged from outermost elements to the middle element, traveling clockwise."
   ]
  },
  {
   "cell_type": "code",
   "execution_count": 1,
   "metadata": {},
   "outputs": [
    {
     "data": {
      "text/plain": [
       "3"
      ]
     },
     "execution_count": 1,
     "metadata": {},
     "output_type": "execute_result"
    }
   ],
   "source": [
    "array = [[1,2,3],\n",
    "         [4,5,6],\n",
    "         [7,8,9]]\n",
    "\n",
    "len(array)"
   ]
  },
  {
   "cell_type": "code",
   "execution_count": 18,
   "metadata": {},
   "outputs": [
    {
     "data": {
      "text/plain": [
       "3"
      ]
     },
     "execution_count": 18,
     "metadata": {},
     "output_type": "execute_result"
    }
   ],
   "source": [
    "array[0][2]"
   ]
  },
  {
   "cell_type": "code",
   "execution_count": null,
   "metadata": {},
   "outputs": [],
   "source": [
    "n = len array"
   ]
  },
  {
   "cell_type": "code",
   "execution_count": null,
   "metadata": {},
   "outputs": [],
   "source": [
    "# inside of a list:\n",
    "# get all values in top of array\n",
    "# get all values in last column of array excluding first and last array\n",
    "# get values from bottom of the array in reverse order\n",
    "# get get all values from first column in array excluding top and bottom of the array\n",
    "# get value from center of the array"
   ]
  },
  {
   "cell_type": "code",
   "execution_count": 35,
   "metadata": {},
   "outputs": [
    {
     "data": {
      "text/plain": [
       "[1, 2, 3, 6, 9, 8, 7, 4]"
      ]
     },
     "execution_count": 35,
     "metadata": {},
     "output_type": "execute_result"
    }
   ],
   "source": [
    "lst = []\n",
    "\n",
    "n = len(array)\n",
    "\n",
    "# get all values in top of array\n",
    "for r in range(0,n):\n",
    "    lst.append(array[0][r])\n",
    "\n",
    "# get all values in last column of array excluding first and last array\n",
    "column = []\n",
    "\n",
    "for r in range(0,n):\n",
    "    column.append(array[r][n-1])\n",
    "               \n",
    "lst.extend(column[1:-1])\n",
    "\n",
    "# get values from bottom of the array in reverse order\n",
    "bottom = []\n",
    "\n",
    "for r in range(0,n):\n",
    "    bottom.append(array[n-1][r])\n",
    "    \n",
    "bottom.reverse()\n",
    "    \n",
    "for number in bottom:\n",
    "    lst.append(number)\n",
    "    \n",
    "# get get all values from first column in array excluding top and bottom of the array\n",
    "column2 = []\n",
    "\n",
    "for r in range(0,n):\n",
    "    column2.append(array[r][n-n])\n",
    "               \n",
    "lst.extend(column2[1:-1])\n",
    "\n",
    "lst"
   ]
  },
  {
   "cell_type": "code",
   "execution_count": 23,
   "metadata": {},
   "outputs": [
    {
     "ename": "SyntaxError",
     "evalue": "unexpected EOF while parsing (<ipython-input-23-c43bcaf00065>, line 7)",
     "output_type": "error",
     "traceback": [
      "\u001b[0;36m  File \u001b[0;32m\"<ipython-input-23-c43bcaf00065>\"\u001b[0;36m, line \u001b[0;32m7\u001b[0m\n\u001b[0;31m    lst.append(array[0][r]\u001b[0m\n\u001b[0m                          ^\u001b[0m\n\u001b[0;31mSyntaxError\u001b[0m\u001b[0;31m:\u001b[0m unexpected EOF while parsing\n"
     ]
    }
   ],
   "source": []
  },
  {
   "cell_type": "code",
   "execution_count": null,
   "metadata": {},
   "outputs": [],
   "source": []
  }
 ],
 "metadata": {
  "kernelspec": {
   "display_name": "Python 3",
   "language": "python",
   "name": "python3"
  },
  "language_info": {
   "codemirror_mode": {
    "name": "ipython",
    "version": 3
   },
   "file_extension": ".py",
   "mimetype": "text/x-python",
   "name": "python",
   "nbconvert_exporter": "python",
   "pygments_lexer": "ipython3",
   "version": "3.7.4"
  }
 },
 "nbformat": 4,
 "nbformat_minor": 2
}
