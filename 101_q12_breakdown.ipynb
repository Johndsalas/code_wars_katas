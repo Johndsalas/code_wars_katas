{
 "cells": [
  {
   "cell_type": "markdown",
   "metadata": {},
   "source": [
    "### Copy of code needed to run cell asserts"
   ]
  },
  {
   "cell_type": "code",
   "execution_count": 5,
   "metadata": {},
   "outputs": [],
   "source": [
    "# Note: this code inside of cell 12 in the exersize must run \n",
    "# in order for the assert statements to check the problem correctly\n",
    "import random\n",
    "\n",
    "# note this code creates a random number of the \n",
    "positive_even_number = random.randrange(2, 101, 2)\n",
    "negative_even_number = random.randrange(-100, -1, 2)\n",
    "positive_odd_number = random.randrange(1, 100, 2)\n",
    "negative_odd_number = random.randrange(-101, 0, 2)"
   ]
  },
  {
   "cell_type": "markdown",
   "metadata": {},
   "source": [
    "### Copy of problem with solution function"
   ]
  },
  {
   "cell_type": "code",
   "execution_count": 4,
   "metadata": {},
   "outputs": [
    {
     "name": "stdout",
     "output_type": "stream",
     "text": [
      "Exercise 12 is correct.\n"
     ]
    }
   ],
   "source": [
    "# Exercise 12\n",
    "# Write a function definition named is_positive that takes in a number and returns True or False if that number is positive.\n",
    "\n",
    "def is_positive(number):\n",
    "    return number > 0\n",
    "\n",
    "assert is_positive(positive_odd_number) == True, \"Ensure that the function is defined, named properly, and returns the correct value\"\n",
    "assert is_positive(positive_even_number) == True, \"Ensure that the function is defined, named properly, and returns the correct value\"\n",
    "assert is_positive(negative_odd_number) == False, \"Ensure that the function is defined, named properly, and returns the correct value\"\n",
    "assert is_positive(negative_even_number) == False, \"Ensure that the function is defined, named properly, and returns the correct value\"\n",
    "print(\"Exercise 12 is correct.\")"
   ]
  },
  {
   "cell_type": "markdown",
   "metadata": {},
   "source": [
    "### Exersize Breakdown"
   ]
  },
  {
   "cell_type": "code",
   "execution_count": null,
   "metadata": {},
   "outputs": [],
   "source": [
    "# Exercise 12\n",
    "# Write a function definition named is_positive that takes in a \n",
    "# number and returns True or False if that number is positive."
   ]
  },
  {
   "cell_type": "markdown",
   "metadata": {},
   "source": [
    "### Step 1 Explain what I want the code to do in english"
   ]
  },
  {
   "cell_type": "code",
   "execution_count": null,
   "metadata": {},
   "outputs": [],
   "source": [
    "# take in any number \n",
    "# compare the number the function takes in to 0 \n",
    "# if higher (positive) return true if equal or lower (not positive) return false\n"
   ]
  },
  {
   "cell_type": "markdown",
   "metadata": {},
   "source": [
    "### Step 2 Solve the smallest part of the problem first and test with one veriable"
   ]
  },
  {
   "cell_type": "code",
   "execution_count": 9,
   "metadata": {},
   "outputs": [
    {
     "data": {
      "text/plain": [
       "True"
      ]
     },
     "execution_count": 9,
     "metadata": {},
     "output_type": "execute_result"
    }
   ],
   "source": [
    "number = 1\n",
    "\n",
    "\n",
    "# if you type a rational statement into python python will return True or False \n",
    "# depending on if that statement is True or False\n",
    "number > 0"
   ]
  },
  {
   "cell_type": "markdown",
   "metadata": {},
   "source": [
    "### Try using differint variable numbers"
   ]
  },
  {
   "cell_type": "code",
   "execution_count": 10,
   "metadata": {},
   "outputs": [
    {
     "data": {
      "text/plain": [
       "False"
      ]
     },
     "execution_count": 10,
     "metadata": {},
     "output_type": "execute_result"
    }
   ],
   "source": [
    "number = -15\n",
    "\n",
    "\n",
    "# if you type a rational statement into python python will return True or False \n",
    "# depending on if that statement is True or False\n",
    "number > 0"
   ]
  },
  {
   "cell_type": "code",
   "execution_count": 11,
   "metadata": {},
   "outputs": [
    {
     "data": {
      "text/plain": [
       "True"
      ]
     },
     "execution_count": 11,
     "metadata": {},
     "output_type": "execute_result"
    }
   ],
   "source": [
    "number = 100\n",
    "\n",
    "\n",
    "# if you type a rational statement into python python will return True or False \n",
    "# depending on if that statement is True or False\n",
    "number > 0"
   ]
  },
  {
   "cell_type": "markdown",
   "metadata": {},
   "source": [
    "### 3 Write solution as a function"
   ]
  },
  {
   "cell_type": "code",
   "execution_count": 12,
   "metadata": {},
   "outputs": [],
   "source": [
    "def is_positive(number):\n",
    "    return number > 0"
   ]
  },
  {
   "cell_type": "markdown",
   "metadata": {},
   "source": [
    "### 4 Test solution by calling function using differint inputs"
   ]
  },
  {
   "cell_type": "code",
   "execution_count": 13,
   "metadata": {},
   "outputs": [
    {
     "data": {
      "text/plain": [
       "True"
      ]
     },
     "execution_count": 13,
     "metadata": {},
     "output_type": "execute_result"
    }
   ],
   "source": [
    "is_positive(2)"
   ]
  },
  {
   "cell_type": "code",
   "execution_count": 14,
   "metadata": {},
   "outputs": [
    {
     "data": {
      "text/plain": [
       "False"
      ]
     },
     "execution_count": 14,
     "metadata": {},
     "output_type": "execute_result"
    }
   ],
   "source": [
    "is_positive(-34)"
   ]
  },
  {
   "cell_type": "markdown",
   "metadata": {},
   "source": [
    "### 5 Test on Assert Statements"
   ]
  },
  {
   "cell_type": "code",
   "execution_count": 15,
   "metadata": {},
   "outputs": [
    {
     "name": "stdout",
     "output_type": "stream",
     "text": [
      "Exercise 12 is correct.\n"
     ]
    }
   ],
   "source": [
    "def is_positive(number):\n",
    "    return number > 0\n",
    "\n",
    "assert is_positive(positive_odd_number) == True, \"Ensure that the function is defined, named properly, and returns the correct value\"\n",
    "assert is_positive(positive_even_number) == True, \"Ensure that the function is defined, named properly, and returns the correct value\"\n",
    "assert is_positive(negative_odd_number) == False, \"Ensure that the function is defined, named properly, and returns the correct value\"\n",
    "assert is_positive(negative_even_number) == False, \"Ensure that the function is defined, named properly, and returns the correct value\"\n",
    "print(\"Exercise 12 is correct.\")"
   ]
  },
  {
   "cell_type": "markdown",
   "metadata": {},
   "source": [
    "### Note: each assert statement is making a function call to is_positive() using a value generated by the variable that is in side the ()'s of the function call. For example the variable positive_odd_number will generate a positive intiger that is odd and is between 2 and 101 based on line six of the first block of code. All of the code in the first block of code must be run for each assert statement to run correctly."
   ]
  }
 ],
 "metadata": {
  "kernelspec": {
   "display_name": "Python 3",
   "language": "python",
   "name": "python3"
  },
  "language_info": {
   "codemirror_mode": {
    "name": "ipython",
    "version": 3
   },
   "file_extension": ".py",
   "mimetype": "text/x-python",
   "name": "python",
   "nbconvert_exporter": "python",
   "pygments_lexer": "ipython3",
   "version": "3.7.4"
  }
 },
 "nbformat": 4,
 "nbformat_minor": 2
}
