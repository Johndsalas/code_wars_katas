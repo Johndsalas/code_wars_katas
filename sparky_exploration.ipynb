{
 "cells": [
  {
   "cell_type": "code",
   "execution_count": 1,
   "metadata": {},
   "outputs": [],
   "source": [
    "# Imports\n",
    "\n",
    "import pyspark\n",
    "from pyspark.sql import SparkSession\n",
    "from pyspark.sql.functions import *\n",
    "\n",
    "import warnings\n",
    "warnings.filterwarnings(\"ignore\")\n",
    "\n",
    "import numpy as np\n",
    "import pandas as pd\n",
    "\n",
    "%matplotlib inline\n",
    "import matplotlib.pyplot as plt\n",
    "import seaborn as sns\n"
   ]
  },
  {
   "cell_type": "code",
   "execution_count": 2,
   "metadata": {},
   "outputs": [],
   "source": [
    "# Answer the questions below by using a combination of the techniques discussed in the lesson \n",
    "# that you think is appropriate.\n",
    "\n",
    "\n",
    "conf = pyspark.SparkConf().set('spark.driver.host','127.0.0.1')\n",
    "sc = pyspark.SparkContext(master='local', appName='myAppName',conf=conf)\n",
    "\n",
    "spark = pyspark.sql.SparkSession.builder.getOrCreate()\n",
    "\n",
    "source = spark.read.csv(\"source.csv\", sep=\",\", header=True, inferSchema=True)\n",
    "\n",
    "case = spark.read.csv(\"case.csv\", sep=\",\", header=True, inferSchema=True)\n",
    "\n",
    "dept = spark.read.csv(\"dept.csv\", sep=\",\", header=True, inferSchema=True)"
   ]
  },
  {
   "cell_type": "code",
   "execution_count": 3,
   "metadata": {},
   "outputs": [
    {
     "name": "stdout",
     "output_type": "stream",
     "text": [
      "-RECORD 0--------------------------------------\n",
      " source_username        | Michelle Urrutia     \n",
      " case_id                | 1014128056           \n",
      " case_opened_date       | 1/2/18 8:21          \n",
      " case_closed_date       | 1/10/18 8:39         \n",
      " SLA_due_date           | 1/5/18 8:30          \n",
      " case_late              | YES                  \n",
      " num_days_late          | 5.00681713           \n",
      " case_closed            | YES                  \n",
      " dept_division          | Waste Collection     \n",
      " service_request_type   | Solid Waste Fees ... \n",
      " SLA_days               | 3.00619213           \n",
      " case_status            | Closed               \n",
      " source_id              | 136202               \n",
      " request_address        | 3214  STONEY FORK... \n",
      " council_district       | 10                   \n",
      " standardized_dept_name | Solid Waste          \n",
      " dept_subject_to_SLA    | YES                  \n",
      "only showing top 1 row\n",
      "\n"
     ]
    }
   ],
   "source": [
    "df = source.join(case, on=source.source_id == case.source_id, how=\"left\").join(dept, on=case.dept_division == dept.dept_division, how=\"left\").drop(dept.dept_division).drop(source.source_id).drop(dept.dept_name)\n",
    "\n",
    "\n",
    "df.show(1,vertical=True)"
   ]
  },
  {
   "cell_type": "code",
   "execution_count": 4,
   "metadata": {},
   "outputs": [],
   "source": [
    "# (\n",
    "#     df.write.format(\"csv\")\n",
    "#     .mode(\"overwrite\")\n",
    "#     .option(\"header\", \"true\")\n",
    "#     .save(\"wrangle_311\")\n",
    "# )"
   ]
  },
  {
   "cell_type": "code",
   "execution_count": 5,
   "metadata": {
    "scrolled": true
   },
   "outputs": [
    {
     "name": "stdout",
     "output_type": "stream",
     "text": [
      "-RECORD 0--------------------------------------\n",
      " source_username        | CRM_Listener         \n",
      " case_id                | 1014127597           \n",
      " case_opened_date       | 1/1/18 15:22         \n",
      " case_closed_date       | 1/1/18 19:59         \n",
      " SLA_due_date           | 1/3/18 8:30          \n",
      " case_late              | NO                   \n",
      " num_days_late          | -1.5212152780000001  \n",
      " case_closed            | YES                  \n",
      " dept_division          | Signals              \n",
      " service_request_type   | Traffic Signal Op... \n",
      " SLA_days               | 1.713460648          \n",
      " case_status            | Closed               \n",
      " source_id              | CRM_Listener         \n",
      " request_address        | GEN MCMULLEN N an... \n",
      " council_district       | 5                    \n",
      " standardized_dept_name | Trans & Cap Impro... \n",
      " dept_subject_to_SLA    | YES                  \n",
      "only showing top 1 row\n",
      "\n"
     ]
    }
   ],
   "source": [
    "df = spark.read.csv(\"wrangle_311\", sep=\",\", header=True, inferSchema=True)\n",
    "df.show(1,vertical = True)"
   ]
  },
  {
   "cell_type": "code",
   "execution_count": 6,
   "metadata": {},
   "outputs": [
    {
     "data": {
      "text/plain": [
       "Text(0.5, 1.0, 'Number of Cases by Department')"
      ]
     },
     "execution_count": 6,
     "metadata": {},
     "output_type": "execute_result"
    },
    {
     "data": {
      "image/png": "[encoded data removed]",
      "text/plain": [
       "<Figure size 576x576 with 1 Axes>"
      ]
     },
     "metadata": {
      "needs_background": "light"
     },
     "output_type": "display_data"
    }
   ],
   "source": [
    "# How many different cases are there, by department?\n",
    "(\n",
    "    df.groupBy(\"standardized_dept_name\")\n",
    "      .agg(count(\"case_id\").alias(\"number_of_cases\"))\n",
    "    \n",
    "      .toPandas()\n",
    "      .set_index(\"standardized_dept_name\")\n",
    "      .number_of_cases.sort_values(ascending=False)\n",
    "      .plot.barh(width=1, edgecolor=\"black\", figsize=(8,8))\n",
    ")\n",
    "\n",
    "plt.xlabel(\"Number of Cases by Department\")\n",
    "plt.ylabel(\"\")\n",
    "plt.title(\"Number of Cases by Department\")"
   ]
  },
  {
   "cell_type": "code",
   "execution_count": 7,
   "metadata": {},
   "outputs": [
    {
     "data": {
      "text/html": [
       "<div>\n",
       "<style scoped>\n",
       "    .dataframe tbody tr th:only-of-type {\n",
       "        vertical-align: middle;\n",
       "    }\n",
       "\n",
       "    .dataframe tbody tr th {\n",
       "        vertical-align: top;\n",
       "    }\n",
       "\n",
       "    .dataframe thead th {\n",
       "        text-align: right;\n",
       "    }\n",
       "</style>\n",
       "<table border=\"1\" class=\"dataframe\">\n",
       "  <thead>\n",
       "    <tr style=\"text-align: right;\">\n",
       "      <th></th>\n",
       "      <th>standardized_dept_name</th>\n",
       "      <th>NO</th>\n",
       "      <th>YES</th>\n",
       "    </tr>\n",
       "  </thead>\n",
       "  <tbody>\n",
       "    <tr>\n",
       "      <th>0</th>\n",
       "      <td>Solid Waste</td>\n",
       "      <td>252558</td>\n",
       "      <td>33729</td>\n",
       "    </tr>\n",
       "    <tr>\n",
       "      <th>1</th>\n",
       "      <td>Animal Care Services</td>\n",
       "      <td>95611</td>\n",
       "      <td>23751</td>\n",
       "    </tr>\n",
       "    <tr>\n",
       "      <th>2</th>\n",
       "      <td>Trans &amp; Cap Improvements</td>\n",
       "      <td>92312</td>\n",
       "      <td>5529</td>\n",
       "    </tr>\n",
       "    <tr>\n",
       "      <th>3</th>\n",
       "      <td>Parks &amp; Recreation</td>\n",
       "      <td>16154</td>\n",
       "      <td>3810</td>\n",
       "    </tr>\n",
       "    <tr>\n",
       "      <th>4</th>\n",
       "      <td>Customer Service</td>\n",
       "      <td>854</td>\n",
       "      <td>2035</td>\n",
       "    </tr>\n",
       "  </tbody>\n",
       "</table>\n",
       "</div>"
      ],
      "text/plain": [
       "     standardized_dept_name      NO    YES\n",
       "0               Solid Waste  252558  33729\n",
       "1      Animal Care Services   95611  23751\n",
       "2  Trans & Cap Improvements   92312   5529\n",
       "3        Parks & Recreation   16154   3810\n",
       "4          Customer Service     854   2035"
      ]
     },
     "execution_count": 7,
     "metadata": {},
     "output_type": "execute_result"
    }
   ],
   "source": [
    "# Does the percentage of cases that are late vary by department?\n",
    "df = (\n",
    "    df.groupBy(\"standardized_dept_name\")\n",
    "      .pivot(\"case_late\")\n",
    "      .agg(count(\"case_id\"))\n",
    "      .na.fill(0)\n",
    "      .toPandas()\n",
    "      \n",
    "      \n",
    ")\n",
    "\n",
    "df.head()"
   ]
  },
  {
   "cell_type": "code",
   "execution_count": 9,
   "metadata": {},
   "outputs": [
    {
     "data": {
      "text/plain": [
       "Text(0.5, 1.0, 'Percent of Cases Late by Department')"
      ]
     },
     "execution_count": 9,
     "metadata": {},
     "output_type": "execute_result"
    },
    {
     "data": {
      "image/png": "[encoded data removed]",
      "text/plain": [
       "<Figure size 576x576 with 1 Axes>"
      ]
     },
     "metadata": {
      "needs_background": "light"
     },
     "output_type": "display_data"
    }
   ],
   "source": [
    "df[\"TOTAL\"]=(df.NO+df.YES)\n",
    "df[\"PERCENT_LATE\"]=(df.YES/df.TOTAL)\n",
    "\n",
    "(\n",
    "    df.set_index(\"standardized_dept_name\")\n",
    "      .PERCENT_LATE.sort_values(ascending=False)\n",
    "      .plot.barh(width=1, edgecolor=\"black\", figsize=(8,8))\n",
    ")\n",
    "\n",
    "plt.xlabel(\"Percent of Cases Late by Department\")\n",
    "plt.ylabel(\"\")\n",
    "plt.title(\"Percent of Cases Late by Department\")\n",
    "\n"
   ]
  },
  {
   "cell_type": "code",
   "execution_count": null,
   "metadata": {},
   "outputs": [],
   "source": [
    "# On average, how late are the late cases by department?\n",
    "\n",
    "df = spark.read.csv(\"wrangle_311\", sep=\",\", header=True, inferSchema=True)\n",
    "\n",
    "df = (\n",
    "    df.filter(df.case_late==\"YES\")\n",
    "      .groupBy(\"standardized_dept_name\")\n",
    "      .agg(avg(\"num_days_late\").alias(\"days\"))\n",
    "      .toPandas()\n",
    "      .set_index(\"standardized_dept_name\")\n",
    "      .days.sort_values(ascending=False)\n",
    "      .plot.barh(width=1, edgecolor=\"black\", figsize=(8,8))\n",
    ")\n",
    "\n",
    "plt.xlabel(\"Average Days Late by Department\")\n",
    "plt.ylabel(\"\")\n",
    "plt.title(\"Average Days Late For Late Cases\")\n"
   ]
  },
  {
   "cell_type": "code",
   "execution_count": null,
   "metadata": {},
   "outputs": [],
   "source": [
    "# df = (\n",
    "#     df.filter(df.case_late==\"YES\")\n",
    "#       .groupBy(\"standardized_dept_name\")\n",
    "#       .agg(avg(\"num_days_late\").alias(\"days\"))\n",
    "#       .toPandas()\n",
    "#       .set_index(\"standardized_dept_name\")\n",
    "#       .days.sort_values(ascending=False)\n",
    "#       .plot.barh(width=1, edgecolor=\"black\", figsize=(8,8))\n",
    "# )"
   ]
  },
  {
   "cell_type": "code",
   "execution_count": null,
   "metadata": {},
   "outputs": [],
   "source": [
    "df = spark.read.csv(\"wrangle_311\", sep=\",\", header=True, inferSchema=True)\n",
    "df.show(1,vertical=True)"
   ]
  },
  {
   "cell_type": "code",
   "execution_count": null,
   "metadata": {},
   "outputs": [],
   "source": [
    "# What is the service type that is the most late? Just for Parks & Rec?\n",
    "\n",
    "df = spark.read.csv(\"wrangle_311\", sep=\",\", header=True, inferSchema=True)\n",
    "\n",
    "df = (\n",
    "        df.filter(df.case_late==\"YES\")\n",
    "        .filter(df.standardized_dept_name==\"Parks & Recreation\")\n",
    "        .groupBy(\"service_request_type\").agg(avg(\"num_days_late\").alias(\"days\"))\n",
    "        .toPandas()\n",
    "        .set_index(\"service_request_type\")\n",
    "        .days.sort_values(ascending=False)\n",
    "        .plot.barh(width=1, edgecolor=\"black\", figsize=(9,9))\n",
    ")\n",
    "\n"
   ]
  },
  {
   "cell_type": "code",
   "execution_count": null,
   "metadata": {},
   "outputs": [],
   "source": [
    "li = list(\n",
    "    df.select('standardized_dept_name').toPandas()['standardized_dept_name']\n",
    ")\n",
    "\n",
    "li = set(li)\n",
    "\n",
    "li"
   ]
  },
  {
   "cell_type": "code",
   "execution_count": null,
   "metadata": {},
   "outputs": [],
   "source": [
    "# For the DSD/Code Enforcement department, what are the most common service request types? standardized_dept_name\n",
    "# Look at other departments too.\n",
    "\n",
    "dept = 'Animal Care Services'\n",
    "\n",
    "df = spark.read.csv(\"wrangle_311\", sep=\",\", header=True, inferSchema=True)\n",
    "\n",
    "df = (\n",
    "        df.filter(df.case_late==\"YES\")\n",
    "        .filter(df.standardized_dept_name==f\"{dept}\")\n",
    "        .groupBy(\"service_request_type\").agg(avg(\"num_days_late\").alias(\"days\"))\n",
    "        .toPandas()\n",
    "        .set_index(\"service_request_type\")\n",
    "        .days.sort_values(ascending=False)\n",
    "        .plot.barh(width=1, edgecolor=\"black\", figsize=(8,8))\n",
    ")\n",
    "\n",
    "plt.title(f\"Average Days Late For {dept}\")"
   ]
  },
  {
   "cell_type": "code",
   "execution_count": null,
   "metadata": {},
   "outputs": [],
   "source": [
    "# Does whether or not its a weekend matter for when a case is opened/closed?"
   ]
  },
  {
   "cell_type": "code",
   "execution_count": null,
   "metadata": {},
   "outputs": [],
   "source": [
    "# On average, how many cases are opened a day for the Customer Service department?\n",
    "\n"
   ]
  },
  {
   "cell_type": "code",
   "execution_count": null,
   "metadata": {},
   "outputs": [],
   "source": [
    "# Does the number of service requests for the solid waste department vary by day of the week?"
   ]
  },
  {
   "cell_type": "code",
   "execution_count": null,
   "metadata": {},
   "outputs": [],
   "source": []
  },
  {
   "cell_type": "code",
   "execution_count": null,
   "metadata": {},
   "outputs": [],
   "source": []
  },
  {
   "cell_type": "code",
   "execution_count": null,
   "metadata": {},
   "outputs": [],
   "source": []
  }
 ],
 "metadata": {
  "kernelspec": {
   "display_name": "Python 3",
   "language": "python",
   "name": "python3"
  },
  "language_info": {
   "codemirror_mode": {
    "name": "ipython",
    "version": 3
   },
   "file_extension": ".py",
   "mimetype": "text/x-python",
   "name": "python",
   "nbconvert_exporter": "python",
   "pygments_lexer": "ipython3",
   "version": "3.7.4"
  }
 },
 "nbformat": 4,
 "nbformat_minor": 2
}
