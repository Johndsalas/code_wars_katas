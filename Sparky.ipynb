{
 "cells": [
  {
   "cell_type": "code",
   "execution_count": 1,
   "metadata": {},
   "outputs": [
    {
     "name": "stdout",
     "output_type": "stream",
     "text": [
      "+--------+\n",
      "|language|\n",
      "+--------+\n",
      "|  python|\n",
      "|       C|\n",
      "|  Kotlin|\n",
      "|    Java|\n",
      "|      Go|\n",
      "+--------+\n",
      "\n",
      "(5, 1)\n"
     ]
    }
   ],
   "source": [
    "# Create a spark data frame that contains your favorite programming languages.\n",
    "\n",
    "# The name of the column should be language\n",
    "# View the schema of the dataframe\n",
    "# Output the shape of the dataframe\n",
    "# Show the first 5 records in the dataframe\n",
    "\n",
    "\n",
    "# imports\n",
    "import pyspark\n",
    "from pyspark.sql.functions import *\n",
    "import pandas as pd\n",
    "import numpy as np\n",
    "\n",
    "conf = pyspark.SparkConf().set('spark.driver.host','127.0.0.1')\n",
    "sc = pyspark.SparkContext(master='local', appName='myAppName',conf=conf)\n",
    "\n",
    "# set up spark environment\n",
    "spark = pyspark.sql.SparkSession.builder.getOrCreate()\n",
    "\n",
    "# create pandas dataframe\n",
    "languages = [\"python\", \"C\", \"Kotlin\", \"Java\", \"Go\"]\n",
    "\n",
    "df = pd.DataFrame({\"language\":languages})\n",
    "\n",
    "# convert to spark dataframe\n",
    "df = spark.createDataFrame(df)\n",
    "\n",
    "df.show()\n",
    "\n",
    "print((df.count(), len(df.columns)))"
   ]
  },
  {
   "cell_type": "code",
   "execution_count": 2,
   "metadata": {},
   "outputs": [
    {
     "name": "stdout",
     "output_type": "stream",
     "text": [
      "+------------+------------------+-----+----+---+----------+---+---+---+---+-------+\n",
      "|manufacturer|             model|displ|year|cyl|     trans|drv|cty|hwy| fl|  class|\n",
      "+------------+------------------+-----+----+---+----------+---+---+---+---+-------+\n",
      "|        audi|                a4|  1.8|1999|  4|  auto(l5)|  f| 18| 29|  p|compact|\n",
      "|        audi|                a4|  1.8|1999|  4|manual(m5)|  f| 21| 29|  p|compact|\n",
      "|        audi|                a4|  2.0|2008|  4|manual(m6)|  f| 20| 31|  p|compact|\n",
      "|        audi|                a4|  2.0|2008|  4|  auto(av)|  f| 21| 30|  p|compact|\n",
      "|        audi|                a4|  2.8|1999|  6|  auto(l5)|  f| 16| 26|  p|compact|\n",
      "|        audi|                a4|  2.8|1999|  6|manual(m5)|  f| 18| 26|  p|compact|\n",
      "|        audi|                a4|  3.1|2008|  6|  auto(av)|  f| 18| 27|  p|compact|\n",
      "|        audi|        a4 quattro|  1.8|1999|  4|manual(m5)|  4| 18| 26|  p|compact|\n",
      "|        audi|        a4 quattro|  1.8|1999|  4|  auto(l5)|  4| 16| 25|  p|compact|\n",
      "|        audi|        a4 quattro|  2.0|2008|  4|manual(m6)|  4| 20| 28|  p|compact|\n",
      "|        audi|        a4 quattro|  2.0|2008|  4|  auto(s6)|  4| 19| 27|  p|compact|\n",
      "|        audi|        a4 quattro|  2.8|1999|  6|  auto(l5)|  4| 15| 25|  p|compact|\n",
      "|        audi|        a4 quattro|  2.8|1999|  6|manual(m5)|  4| 17| 25|  p|compact|\n",
      "|        audi|        a4 quattro|  3.1|2008|  6|  auto(s6)|  4| 17| 25|  p|compact|\n",
      "|        audi|        a4 quattro|  3.1|2008|  6|manual(m6)|  4| 15| 25|  p|compact|\n",
      "|        audi|        a6 quattro|  2.8|1999|  6|  auto(l5)|  4| 15| 24|  p|midsize|\n",
      "|        audi|        a6 quattro|  3.1|2008|  6|  auto(s6)|  4| 17| 25|  p|midsize|\n",
      "|        audi|        a6 quattro|  4.2|2008|  8|  auto(s6)|  4| 16| 23|  p|midsize|\n",
      "|   chevrolet|c1500 suburban 2wd|  5.3|2008|  8|  auto(l4)|  r| 14| 20|  r|    suv|\n",
      "|   chevrolet|c1500 suburban 2wd|  5.3|2008|  8|  auto(l4)|  r| 11| 15|  e|    suv|\n",
      "+------------+------------------+-----+----+---+----------+---+---+---+---+-------+\n",
      "only showing top 20 rows\n",
      "\n",
      "+--------------------------------------------------------------+\n",
      "|Car Summery                                                   |\n",
      "+--------------------------------------------------------------+\n",
      "|The 1999 audi a4 has a 4 cylinder engine.                     |\n",
      "|The 1999 audi a4 has a 4 cylinder engine.                     |\n",
      "|The 2008 audi a4 has a 4 cylinder engine.                     |\n",
      "|The 2008 audi a4 has a 4 cylinder engine.                     |\n",
      "|The 1999 audi a4 has a 6 cylinder engine.                     |\n",
      "|The 1999 audi a4 has a 6 cylinder engine.                     |\n",
      "|The 2008 audi a4 has a 6 cylinder engine.                     |\n",
      "|The 1999 audi a4 quattro has a 4 cylinder engine.             |\n",
      "|The 1999 audi a4 quattro has a 4 cylinder engine.             |\n",
      "|The 2008 audi a4 quattro has a 4 cylinder engine.             |\n",
      "|The 2008 audi a4 quattro has a 4 cylinder engine.             |\n",
      "|The 1999 audi a4 quattro has a 6 cylinder engine.             |\n",
      "|The 1999 audi a4 quattro has a 6 cylinder engine.             |\n",
      "|The 2008 audi a4 quattro has a 6 cylinder engine.             |\n",
      "|The 2008 audi a4 quattro has a 6 cylinder engine.             |\n",
      "|The 1999 audi a6 quattro has a 6 cylinder engine.             |\n",
      "|The 2008 audi a6 quattro has a 6 cylinder engine.             |\n",
      "|The 2008 audi a6 quattro has a 8 cylinder engine.             |\n",
      "|The 2008 chevrolet c1500 suburban 2wd has a 8 cylinder engine.|\n",
      "|The 2008 chevrolet c1500 suburban 2wd has a 8 cylinder engine.|\n",
      "+--------------------------------------------------------------+\n",
      "only showing top 20 rows\n",
      "\n"
     ]
    }
   ],
   "source": [
    "# Load the mpg dataset as a spark dataframe\n",
    "# Create 1 column of output that contains a message like the one below:\n",
    "# The 1999 audi a4 has a 4 cylinder engine.\n",
    "# For each vehicle.\n",
    "\n",
    "\n",
    "import pyspark\n",
    "from pydataset import data\n",
    "from pyspark.sql.functions import *\n",
    "\n",
    "mpg = spark.createDataFrame(data(\"mpg\"))\n",
    "\n",
    "mpg.show()\n",
    "\n",
    "# the YEAR MANUFACTUERER MODEL has a CYL cylinder engine.\n",
    "mpg.select(\n",
    "            concat( \n",
    "                    lit(\"The \"), \n",
    "                    col(\"Year\"),\n",
    "                    lit(\" \"),\n",
    "                    col(\"manufacturer\"),\n",
    "                    lit(\" \"),\n",
    "                    col(\"model\"),\n",
    "                    lit(\" has a \"),\n",
    "                    col(\"cyl\"),\n",
    "                    lit(\" cylinder engine.\")\n",
    "                    ).alias(\"Car Summery\")\n",
    "                   ).show(20, False)\n",
    "        "
   ]
  },
  {
   "cell_type": "code",
   "execution_count": 21,
   "metadata": {},
   "outputs": [
    {
     "name": "stdout",
     "output_type": "stream",
     "text": [
      "+------------+------------------+-----+----+---+------+---+---+---+---+-------+\n",
      "|manufacturer|             model|displ|year|cyl| trans|drv|cty|hwy| fl|  class|\n",
      "+------------+------------------+-----+----+---+------+---+---+---+---+-------+\n",
      "|        audi|                a4|  1.8|1999|  4|  auto|  f| 18| 29|  p|compact|\n",
      "|        audi|                a4|  1.8|1999|  4|manual|  f| 21| 29|  p|compact|\n",
      "|        audi|                a4|  2.0|2008|  4|manual|  f| 20| 31|  p|compact|\n",
      "|        audi|                a4|  2.0|2008|  4|  auto|  f| 21| 30|  p|compact|\n",
      "|        audi|                a4|  2.8|1999|  6|  auto|  f| 16| 26|  p|compact|\n",
      "|        audi|                a4|  2.8|1999|  6|manual|  f| 18| 26|  p|compact|\n",
      "|        audi|                a4|  3.1|2008|  6|  auto|  f| 18| 27|  p|compact|\n",
      "|        audi|        a4 quattro|  1.8|1999|  4|manual|  4| 18| 26|  p|compact|\n",
      "|        audi|        a4 quattro|  1.8|1999|  4|  auto|  4| 16| 25|  p|compact|\n",
      "|        audi|        a4 quattro|  2.0|2008|  4|manual|  4| 20| 28|  p|compact|\n",
      "|        audi|        a4 quattro|  2.0|2008|  4|  auto|  4| 19| 27|  p|compact|\n",
      "|        audi|        a4 quattro|  2.8|1999|  6|  auto|  4| 15| 25|  p|compact|\n",
      "|        audi|        a4 quattro|  2.8|1999|  6|manual|  4| 17| 25|  p|compact|\n",
      "|        audi|        a4 quattro|  3.1|2008|  6|  auto|  4| 17| 25|  p|compact|\n",
      "|        audi|        a4 quattro|  3.1|2008|  6|manual|  4| 15| 25|  p|compact|\n",
      "|        audi|        a6 quattro|  2.8|1999|  6|  auto|  4| 15| 24|  p|midsize|\n",
      "|        audi|        a6 quattro|  3.1|2008|  6|  auto|  4| 17| 25|  p|midsize|\n",
      "|        audi|        a6 quattro|  4.2|2008|  8|  auto|  4| 16| 23|  p|midsize|\n",
      "|   chevrolet|c1500 suburban 2wd|  5.3|2008|  8|  auto|  r| 14| 20|  r|    suv|\n",
      "|   chevrolet|c1500 suburban 2wd|  5.3|2008|  8|  auto|  r| 11| 15|  e|    suv|\n",
      "+------------+------------------+-----+----+---+------+---+---+---+---+-------+\n",
      "only showing top 20 rows\n",
      "\n"
     ]
    }
   ],
   "source": [
    "# Transform the trans column so that it only contains either manual or auto.\n",
    "\n",
    "mpg = mpg.withColumn(\"trans\",regexp_extract( \"trans\",r\"^(\\w+)\",1)\n",
    "         .alias(\"Trans\"))\n",
    "\n",
    "mpg.show()"
   ]
  },
  {
   "cell_type": "code",
   "execution_count": 4,
   "metadata": {},
   "outputs": [
    {
     "name": "stdout",
     "output_type": "stream",
     "text": [
      "+----------+----+------+------+---+------+----+\n",
      "|total_bill| tip|   sex|smoker|day|  time|size|\n",
      "+----------+----+------+------+---+------+----+\n",
      "|     16.99|1.01|Female|    No|Sun|Dinner|   2|\n",
      "|     10.34|1.66|  Male|    No|Sun|Dinner|   3|\n",
      "|     21.01| 3.5|  Male|    No|Sun|Dinner|   3|\n",
      "|     23.68|3.31|  Male|    No|Sun|Dinner|   2|\n",
      "|     24.59|3.61|Female|    No|Sun|Dinner|   4|\n",
      "|     25.29|4.71|  Male|    No|Sun|Dinner|   4|\n",
      "|      8.77| 2.0|  Male|    No|Sun|Dinner|   2|\n",
      "|     26.88|3.12|  Male|    No|Sun|Dinner|   4|\n",
      "|     15.04|1.96|  Male|    No|Sun|Dinner|   2|\n",
      "|     14.78|3.23|  Male|    No|Sun|Dinner|   2|\n",
      "|     10.27|1.71|  Male|    No|Sun|Dinner|   2|\n",
      "|     35.26| 5.0|Female|    No|Sun|Dinner|   4|\n",
      "|     15.42|1.57|  Male|    No|Sun|Dinner|   2|\n",
      "|     18.43| 3.0|  Male|    No|Sun|Dinner|   4|\n",
      "|     14.83|3.02|Female|    No|Sun|Dinner|   2|\n",
      "|     21.58|3.92|  Male|    No|Sun|Dinner|   2|\n",
      "|     10.33|1.67|Female|    No|Sun|Dinner|   3|\n",
      "|     16.29|3.71|  Male|    No|Sun|Dinner|   3|\n",
      "|     16.97| 3.5|Female|    No|Sun|Dinner|   3|\n",
      "|     20.65|3.35|  Male|    No|Sat|Dinner|   3|\n",
      "+----------+----+------+------+---+------+----+\n",
      "only showing top 20 rows\n",
      "\n"
     ]
    }
   ],
   "source": [
    "# Load the tips dataset as a spark dataframe.\n",
    "\n",
    "import pyspark\n",
    "from pydataset import data\n",
    "from pyspark.sql.functions import *\n",
    "\n",
    "spark = pyspark.sql.SparkSession.builder.getOrCreate()\n",
    "\n",
    "df = spark.createDataFrame(data(\"tips\"))\n",
    "\n",
    "df.show()"
   ]
  },
  {
   "cell_type": "code",
   "execution_count": 31,
   "metadata": {},
   "outputs": [
    {
     "name": "stdout",
     "output_type": "stream",
     "text": [
      "+------+-------+\n",
      "|smoker|percent|\n",
      "+------+-------+\n",
      "|   Yes|   38.0|\n",
      "+------+-------+\n",
      "\n"
     ]
    }
   ],
   "source": [
    "# What percentage of observations are smokers?\n",
    "\n",
    "total = df.count()\n",
    "\n",
    "(df.groupBy(df.smoker)\n",
    "   .agg((round(count(df.smoker)/total,2)*100)\n",
    "   .alias(\"percent\"))\n",
    "   .filter(df.smoker==\"Yes\")\n",
    "   .show())\n",
    "\n",
    "\n",
    "\n",
    "# smokers = df.select((smokers/total).alias(\"Percent of Smokers\"))\n"
   ]
  },
  {
   "cell_type": "code",
   "execution_count": 6,
   "metadata": {},
   "outputs": [
    {
     "name": "stdout",
     "output_type": "stream",
     "text": [
      "+----------+----+------+------+---+------+----+--------------+\n",
      "|total_bill| tip|   sex|smoker|day|  time|size|Tip Percentage|\n",
      "+----------+----+------+------+---+------+----+--------------+\n",
      "|     16.99|1.01|Female|    No|Sun|Dinner|   2|           6.0|\n",
      "|     10.34|1.66|  Male|    No|Sun|Dinner|   3|          16.0|\n",
      "|     21.01| 3.5|  Male|    No|Sun|Dinner|   3|          17.0|\n",
      "|     23.68|3.31|  Male|    No|Sun|Dinner|   2|          14.0|\n",
      "|     24.59|3.61|Female|    No|Sun|Dinner|   4|          15.0|\n",
      "|     25.29|4.71|  Male|    No|Sun|Dinner|   4|          19.0|\n",
      "|      8.77| 2.0|  Male|    No|Sun|Dinner|   2|          23.0|\n",
      "|     26.88|3.12|  Male|    No|Sun|Dinner|   4|          12.0|\n",
      "|     15.04|1.96|  Male|    No|Sun|Dinner|   2|          13.0|\n",
      "|     14.78|3.23|  Male|    No|Sun|Dinner|   2|          22.0|\n",
      "|     10.27|1.71|  Male|    No|Sun|Dinner|   2|          17.0|\n",
      "|     35.26| 5.0|Female|    No|Sun|Dinner|   4|          14.0|\n",
      "|     15.42|1.57|  Male|    No|Sun|Dinner|   2|          10.0|\n",
      "|     18.43| 3.0|  Male|    No|Sun|Dinner|   4|          16.0|\n",
      "|     14.83|3.02|Female|    No|Sun|Dinner|   2|          20.0|\n",
      "|     21.58|3.92|  Male|    No|Sun|Dinner|   2|          18.0|\n",
      "|     10.33|1.67|Female|    No|Sun|Dinner|   3|          16.0|\n",
      "|     16.29|3.71|  Male|    No|Sun|Dinner|   3|          23.0|\n",
      "|     16.97| 3.5|Female|    No|Sun|Dinner|   3|          21.0|\n",
      "|     20.65|3.35|  Male|    No|Sat|Dinner|   3|          16.0|\n",
      "+----------+----+------+------+---+------+----+--------------+\n",
      "only showing top 20 rows\n",
      "\n"
     ]
    }
   ],
   "source": [
    "# Create a column that contains the tip percentage\n",
    "\n",
    "df.withColumn(\"Tip Percentage\",round((col(\"tip\")/col(\"total_bill\"))*100,0)).show()"
   ]
  },
  {
   "cell_type": "code",
   "execution_count": 32,
   "metadata": {},
   "outputs": [
    {
     "name": "stdout",
     "output_type": "stream",
     "text": [
      "+------+-----+-----+\n",
      "|   sex|   No|  Yes|\n",
      "+------+-----+-----+\n",
      "|Female|15.69|18.24|\n",
      "|  Male| 16.1|15.28|\n",
      "+------+-----+-----+\n",
      "\n"
     ]
    }
   ],
   "source": [
    "# Calculate the average tip percentage for each combination of sex and smoker\n",
    "\n",
    "(df.withColumn(\"tip_percentage\",round((df.tip/df.total_bill)*100,0))\n",
    "   .groupBy(\"sex\")\n",
    "   .pivot(\"smoker\")\n",
    "   .agg(round(mean(\"tip_percentage\"),2))\n",
    "   .show())"
   ]
  },
  {
   "cell_type": "code",
   "execution_count": 8,
   "metadata": {},
   "outputs": [
    {
     "name": "stdout",
     "output_type": "stream",
     "text": [
      "+----------+-------------+--------+--------+----+-------+\n",
      "|      date|precipitation|temp_max|temp_min|wind|weather|\n",
      "+----------+-------------+--------+--------+----+-------+\n",
      "|2012-01-01|          0.0|    12.8|     5.0| 4.7|drizzle|\n",
      "|2012-01-02|         10.9|    10.6|     2.8| 4.5|   rain|\n",
      "|2012-01-03|          0.8|    11.7|     7.2| 2.3|   rain|\n",
      "|2012-01-04|         20.3|    12.2|     5.6| 4.7|   rain|\n",
      "|2012-01-05|          1.3|     8.9|     2.8| 6.1|   rain|\n",
      "|2012-01-06|          2.5|     4.4|     2.2| 2.2|   rain|\n",
      "+----------+-------------+--------+--------+----+-------+\n",
      "only showing top 6 rows\n",
      "\n"
     ]
    }
   ],
   "source": [
    "# Use the seattle weather dataset referenced in the lesson to answer the questions below.\n",
    "\n",
    "from vega_datasets import data\n",
    "\n",
    "weather = data.seattle_weather().assign(date=lambda df: df.date.astype(str))\n",
    "weather = spark.createDataFrame(weather)\n",
    "weather.show(6)"
   ]
  },
  {
   "cell_type": "code",
   "execution_count": 9,
   "metadata": {},
   "outputs": [
    {
     "data": {
      "text/plain": [
       "[('date', 'string'),\n",
       " ('precipitation', 'double'),\n",
       " ('temp_max', 'double'),\n",
       " ('temp_min', 'double'),\n",
       " ('wind', 'double'),\n",
       " ('weather', 'string')]"
      ]
     },
     "execution_count": 9,
     "metadata": {},
     "output_type": "execute_result"
    }
   ],
   "source": [
    "weather.dtypes"
   ]
  },
  {
   "cell_type": "code",
   "execution_count": 24,
   "metadata": {},
   "outputs": [
    {
     "name": "stdout",
     "output_type": "stream",
     "text": [
      "+----------+-------------+--------+--------+----+-------+\n",
      "|      date|precipitation|temp_max|temp_min|wind|weather|\n",
      "+----------+-------------+--------+--------+----+-------+\n",
      "|2012-01-01|          0.0|    55.0|    41.0| 4.7|drizzle|\n",
      "|2012-01-02|         10.9|    51.0|    37.0| 4.5|   rain|\n",
      "|2012-01-03|          0.8|    53.0|    45.0| 2.3|   rain|\n",
      "|2012-01-04|         20.3|    54.0|    42.0| 4.7|   rain|\n",
      "|2012-01-05|          1.3|    48.0|    37.0| 6.1|   rain|\n",
      "|2012-01-06|          2.5|    40.0|    36.0| 2.2|   rain|\n",
      "|2012-01-07|          0.0|    45.0|    37.0| 2.3|   rain|\n",
      "|2012-01-08|          0.0|    50.0|    37.0| 2.0|    sun|\n",
      "|2012-01-09|          4.3|    49.0|    41.0| 3.4|   rain|\n",
      "|2012-01-10|          1.0|    43.0|    33.0| 3.4|   rain|\n",
      "|2012-01-11|          0.0|    43.0|    30.0| 5.1|    sun|\n",
      "|2012-01-12|          0.0|    43.0|    29.0| 1.9|    sun|\n",
      "|2012-01-13|          0.0|    41.0|    27.0| 1.3|    sun|\n",
      "|2012-01-14|          4.1|    40.0|    33.0| 5.3|   snow|\n",
      "|2012-01-15|          5.3|    34.0|    26.0| 3.2|   snow|\n",
      "|2012-01-16|          2.5|    35.0|    27.0| 5.0|   snow|\n",
      "|2012-01-17|          8.1|    38.0|    32.0| 5.6|   snow|\n",
      "|2012-01-18|         19.8|    32.0|    27.0| 5.0|   snow|\n",
      "|2012-01-19|         15.2|    30.0|    27.0| 1.6|   snow|\n",
      "|2012-01-20|         13.5|    45.0|    30.0| 2.3|   snow|\n",
      "+----------+-------------+--------+--------+----+-------+\n",
      "only showing top 20 rows\n",
      "\n"
     ]
    }
   ],
   "source": [
    "# Convert the temperatures to farenheight.\n",
    "\n",
    "(weather.withColumn(\"temp_max\",expr(\"round(temp_max * 9 / 5 + 32)\"))\n",
    "       .withColumn(\"temp_min\",expr(\"round(temp_min * 9 / 5 + 32)\"))\n",
    "       .show())"
   ]
  },
  {
   "cell_type": "code",
   "execution_count": 25,
   "metadata": {},
   "outputs": [
    {
     "name": "stdout",
     "output_type": "stream",
     "text": [
      "+-----+--------+\n",
      "|month|ave_rain|\n",
      "+-----+--------+\n",
      "|    1|    3.76|\n",
      "|    2|    3.73|\n",
      "|    3|    4.89|\n",
      "|    4|    3.13|\n",
      "|    5|    1.67|\n",
      "|    6|    1.11|\n",
      "|    7|    0.39|\n",
      "|    8|    1.32|\n",
      "|    9|    1.96|\n",
      "|   10|    4.06|\n",
      "|   11|    5.35|\n",
      "|   12|    5.02|\n",
      "+-----+--------+\n",
      "\n"
     ]
    }
   ],
   "source": [
    "# Which month has the most rain, on average?\n",
    "\n",
    "(weather.groupBy(month(\"date\").alias(\"month\"))\n",
    "       .agg(round(avg(weather.precipitation),2)\n",
    "       .alias(\"ave_rain\"))\n",
    "       .sort(month(\"date\").asc())\n",
    "       .show())\n",
    "        "
   ]
  },
  {
   "cell_type": "code",
   "execution_count": 26,
   "metadata": {},
   "outputs": [
    {
     "name": "stdout",
     "output_type": "stream",
     "text": [
      "+----+--------+\n",
      "|year|ave_wind|\n",
      "+----+--------+\n",
      "|2012|     3.4|\n",
      "|2013|    3.02|\n",
      "|2014|    3.39|\n",
      "|2015|    3.16|\n",
      "+----+--------+\n",
      "\n"
     ]
    }
   ],
   "source": [
    "# Which year was the windiest?\n",
    "\n",
    "(weather.groupBy(year(\"date\").alias(\"year\"))\n",
    "        .agg(round(avg(weather.wind),2)\n",
    "        .alias(\"ave_wind\")).sort(year(\"date\").asc()).show())"
   ]
  },
  {
   "cell_type": "code",
   "execution_count": 27,
   "metadata": {},
   "outputs": [
    {
     "name": "stdout",
     "output_type": "stream",
     "text": [
      "+-----------+--------------+\n",
      "|Jan_weather|number_of_days|\n",
      "+-----------+--------------+\n",
      "|    drizzle|            10|\n",
      "|        fog|            38|\n",
      "|       rain|            35|\n",
      "|       snow|             8|\n",
      "|        sun|            33|\n",
      "+-----------+--------------+\n",
      "\n"
     ]
    }
   ],
   "source": [
    "# What is the most frequent type of weather in January?\n",
    "\n",
    "(weather.filter(month(\"date\") == \"1\")\n",
    "        .groupBy(weather.weather.alias(\"Jan_weather\"))\n",
    "        .agg(count(weather.weather).alias(\"number_of_days\"))\n",
    "        .sort(weather.weather.asc())\n",
    "        .show())"
   ]
  },
  {
   "cell_type": "code",
   "execution_count": 28,
   "metadata": {
    "scrolled": true
   },
   "outputs": [
    {
     "name": "stdout",
     "output_type": "stream",
     "text": [
      "+------------+------------+\n",
      "|ave_max_temp|ave_min_temp|\n",
      "+------------+------------+\n",
      "|        27.0|        14.0|\n",
      "+------------+------------+\n",
      "\n"
     ]
    }
   ],
   "source": [
    "# What is the average high and low tempurature on sunny days in July in 2013 and 2014?\n",
    "\n",
    "(weather.filter(weather.weather==\"sun\")\n",
    "       .filter(month(\"date\")==\"7\").filter((year(\"date\") == 2013) | (year(\"date\") == 2014))\n",
    "       .select(\"temp_max\",\"temp_min\").agg(round(avg(weather.temp_max))\n",
    "       .alias(\"ave_max_temp\"),round(avg(weather.temp_min))\n",
    "       .alias(\"ave_min_temp\")).show())"
   ]
  },
  {
   "cell_type": "code",
   "execution_count": 29,
   "metadata": {},
   "outputs": [
    {
     "name": "stdout",
     "output_type": "stream",
     "text": [
      "+-------+-------+\n",
      "|weather|percent|\n",
      "+-------+-------+\n",
      "|   rain|    2.0|\n",
      "+-------+-------+\n",
      "\n"
     ]
    }
   ],
   "source": [
    "# What percentage of days were rainy in q3 of 2015?\n",
    "\n",
    "total = (weather\n",
    "         .filter((month(\"date\")==7) | (month(\"date\")==8) | (month(\"date\")==9))\n",
    "         .filter(year(\"date\")==2015).count())\n",
    "\n",
    "(weather.filter((month(\"date\")==7) | (month(\"date\")==8) | (month(\"date\")==9))\n",
    "        .filter(year(\"date\")==2015)\n",
    "        .groupBy(weather.weather)\n",
    "        .agg((round(count(weather.weather)/total,2)*100)\n",
    "        .alias(\"percent\")).filter(weather.weather==\"rain\")\n",
    "        .show())\n",
    " \n"
   ]
  },
  {
   "cell_type": "code",
   "execution_count": 30,
   "metadata": {},
   "outputs": [
    {
     "name": "stdout",
     "output_type": "stream",
     "text": [
      "+----+----------------------------+\n",
      "|year|percentage_of_days_it_rained|\n",
      "+----+----------------------------+\n",
      "|2012|                        48.0|\n",
      "|2013|                        42.0|\n",
      "|2014|                        41.0|\n",
      "|2015|                        39.0|\n",
      "+----+----------------------------+\n",
      "\n"
     ]
    }
   ],
   "source": [
    "# For each year, find what percentage of days it rained (had non-zero precipitation).\n",
    "\n",
    "total = 365\n",
    "\n",
    "(weather.filter(weather.precipitation>0)\n",
    "                       .groupBy(year(\"date\")\n",
    "                       .alias(\"year\"))\n",
    "        .agg((round(count(weather.precipitation)/total,2)*100)\n",
    "        .alias(\"percentage_of_days_it_rained\"))\n",
    "        .sort(year('date')\n",
    "        .asc())\n",
    "        .show())\n",
    "\n",
    "\n"
   ]
  }
 ],
 "metadata": {
  "kernelspec": {
   "display_name": "Python 3",
   "language": "python",
   "name": "python3"
  },
  "language_info": {
   "codemirror_mode": {
    "name": "ipython",
    "version": 3
   },
   "file_extension": ".py",
   "mimetype": "text/x-python",
   "name": "python",
   "nbconvert_exporter": "python",
   "pygments_lexer": "ipython3",
   "version": "3.7.4"
  }
 },
 "nbformat": 4,
 "nbformat_minor": 2
}
