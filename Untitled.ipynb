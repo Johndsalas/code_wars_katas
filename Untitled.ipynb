{
 "cells": [
  {
   "cell_type": "code",
   "execution_count": 26,
   "metadata": {},
   "outputs": [],
   "source": [
    "# Exercise 63\n",
    "# Write a function definition named mode that takes in sequence \n",
    "# of numbers and returns the most commonly occuring value"
   ]
  },
  {
   "cell_type": "code",
   "execution_count": 27,
   "metadata": {},
   "outputs": [],
   "source": [
    "# take in a series of numbers \n",
    "# calculate the mode\n",
    "# import stattistics \n",
    "# get the mode of the series\n",
    "# return the mode \n"
   ]
  },
  {
   "cell_type": "code",
   "execution_count": 28,
   "metadata": {},
   "outputs": [
    {
     "data": {
      "text/plain": [
       "3"
      ]
     },
     "execution_count": 28,
     "metadata": {},
     "output_type": "execute_result"
    }
   ],
   "source": [
    "li = [3,3,3,4,4,11,35]\n",
    "\n",
    "import statistics as s\n",
    "\n",
    "s.mode(li)\n",
    "\n"
   ]
  },
  {
   "cell_type": "code",
   "execution_count": 31,
   "metadata": {},
   "outputs": [],
   "source": [
    "def mode(li):\n",
    "    \n",
    "    import statistics as s\n",
    "    return s.mode(li)"
   ]
  },
  {
   "cell_type": "code",
   "execution_count": 32,
   "metadata": {},
   "outputs": [
    {
     "data": {
      "text/plain": [
       "3"
      ]
     },
     "execution_count": 32,
     "metadata": {},
     "output_type": "execute_result"
    }
   ],
   "source": [
    "mode([3,3,3,4,4,11,35])"
   ]
  },
  {
   "cell_type": "code",
   "execution_count": 33,
   "metadata": {},
   "outputs": [],
   "source": [
    "def mode(seq):\n",
    "    \n",
    "    most_times = 0\n",
    "    number_most_times = 0\n",
    "    \n",
    "    for number in set(seq):\n",
    "        \n",
    "        times = seq.count(number)\n",
    "        \n",
    "        if times > most_times:\n",
    "            \n",
    "            most_times = times\n",
    "            \n",
    "            number_most_times = number\n",
    "            \n",
    "    return number_most_times\n",
    "\n"
   ]
  },
  {
   "cell_type": "code",
   "execution_count": 43,
   "metadata": {},
   "outputs": [
    {
     "name": "stdout",
     "output_type": "stream",
     "text": [
      "False\n"
     ]
    }
   ],
   "source": [
    "value = 'h'\n",
    "\n",
    "if value.lower() in 'aeiou':\n",
    "    print(\"True\")\n",
    "    \n",
    "else:\n",
    "    \n",
    "    print(\"False\")"
   ]
  },
  {
   "cell_type": "code",
   "execution_count": 41,
   "metadata": {},
   "outputs": [
    {
     "name": "stdout",
     "output_type": "stream",
     "text": [
      "False\n"
     ]
    }
   ],
   "source": [
    "value = 'h'\n",
    "\n",
    "if value.lower() in ['a','e','i','o','u']:\n",
    "    print(\"True\")\n",
    "    \n",
    "else:\n",
    "    \n",
    "    print(\"False\")"
   ]
  },
  {
   "cell_type": "code",
   "execution_count": 44,
   "metadata": {},
   "outputs": [],
   "source": [
    "def is_vowel(value):\n",
    "    \n",
    "    if value.lower() in ['a','e','i','o','u']:\n",
    "        \n",
    "        return True\n",
    "    \n",
    "    else:\n",
    "    \n",
    "        return False\n",
    "    "
   ]
  },
  {
   "cell_type": "code",
   "execution_count": 45,
   "metadata": {},
   "outputs": [
    {
     "data": {
      "text/plain": [
       "False"
      ]
     },
     "execution_count": 45,
     "metadata": {},
     "output_type": "execute_result"
    }
   ],
   "source": [
    "is_vowel('H')"
   ]
  },
  {
   "cell_type": "code",
   "execution_count": 46,
   "metadata": {},
   "outputs": [
    {
     "data": {
      "text/plain": [
       "True"
      ]
     },
     "execution_count": 46,
     "metadata": {},
     "output_type": "execute_result"
    }
   ],
   "source": [
    "is_vowel('E')"
   ]
  },
  {
   "cell_type": "code",
   "execution_count": 47,
   "metadata": {},
   "outputs": [],
   "source": [
    "# Exercise 101\n",
    "# Write a function named most_spent_on_item that takes in the shopping cart as \n",
    "# input and returns the dictionary associated with the item that has the highest \n",
    "# price*quantity.\n",
    "# Be sure to do this as programmatically as possible. \n",
    "# Hint: Similarly to how we sometimes begin a function with setting a variable to zero, \n",
    "# we need a starting place:\n",
    "# Hint: Consider creating a variable that is a dictionary with the keys \n",
    "# \"price\" and \"quantity\" both set to 0. You can then compare each item's price and quantity total to the one from \"most\""
   ]
  },
  {
   "cell_type": "code",
   "execution_count": null,
   "metadata": {},
   "outputs": [],
   "source": []
  },
  {
   "cell_type": "code",
   "execution_count": 48,
   "metadata": {},
   "outputs": [],
   "source": [
    "shopping_cart = {\n",
    "                        \"tax\": .08,\n",
    "                        \"items\": [\n",
    "                                    {\n",
    "                                        \"title\": \"orange juice\",\n",
    "                                        \"price\": 3.99,\n",
    "                                        \"quantity\": 1\n",
    "                                    },\n",
    "                                    {\n",
    "                                        \"title\": \"rice\",\n",
    "                                        \"price\": 1.99,\n",
    "                                        \"quantity\": 3\n",
    "                                    },\n",
    "                                    {\n",
    "                                        \"title\": \"beans\",\n",
    "                                        \"price\": 0.99,\n",
    "                                        \"quantity\": 3\n",
    "                                    },\n",
    "                                    {\n",
    "                                        \"title\": \"chili sauce\",\n",
    "                                        \"price\": 2.99,\n",
    "                                        \"quantity\": 1\n",
    "                                    },\n",
    "                                    {\n",
    "                                        \"title\": \"chocolate\",\n",
    "                                        \"price\": 0.75,\n",
    "                                        \"quantity\": 9\n",
    "                                    }\n",
    "                                ]\n",
    "                }"
   ]
  },
  {
   "cell_type": "code",
   "execution_count": 49,
   "metadata": {},
   "outputs": [
    {
     "data": {
      "text/plain": [
       "[{'title': 'orange juice', 'price': 3.99, 'quantity': 1},\n",
       " {'title': 'rice', 'price': 1.99, 'quantity': 3},\n",
       " {'title': 'beans', 'price': 0.99, 'quantity': 3},\n",
       " {'title': 'chili sauce', 'price': 2.99, 'quantity': 1},\n",
       " {'title': 'chocolate', 'price': 0.75, 'quantity': 9}]"
      ]
     },
     "execution_count": 49,
     "metadata": {},
     "output_type": "execute_result"
    }
   ],
   "source": [
    "shopping_cart['items']"
   ]
  },
  {
   "cell_type": "code",
   "execution_count": 53,
   "metadata": {},
   "outputs": [
    {
     "name": "stdout",
     "output_type": "stream",
     "text": [
      "3.99\n",
      "1.99\n",
      "0.99\n",
      "2.99\n",
      "0.75\n"
     ]
    }
   ],
   "source": [
    "for item in shopping_cart['items']:\n",
    "    print(item['price'])"
   ]
  },
  {
   "cell_type": "code",
   "execution_count": null,
   "metadata": {},
   "outputs": [],
   "source": []
  }
 ],
 "metadata": {
  "kernelspec": {
   "display_name": "Python 3",
   "language": "python",
   "name": "python3"
  },
  "language_info": {
   "codemirror_mode": {
    "name": "ipython",
    "version": 3
   },
   "file_extension": ".py",
   "mimetype": "text/x-python",
   "name": "python",
   "nbconvert_exporter": "python",
   "pygments_lexer": "ipython3",
   "version": "3.7.4"
  }
 },
 "nbformat": 4,
 "nbformat_minor": 2
}
