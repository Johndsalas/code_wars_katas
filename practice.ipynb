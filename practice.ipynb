{
 "cells": [
  {
   "cell_type": "markdown",
   "metadata": {},
   "source": [
    "You have a record of  students. Each record contains the student's name, and their percent marks in Maths, Physics and Chemistry. The marks can be floating values. The user enters some integer  followed by the names and marks for  students. You are required to save the record in a dictionary data type. The user then enters a student's name. Output the average percentage marks obtained by that student, correct to two decimal places.\n",
    "\n",
    "Input Format\n",
    "\n",
    "The first line contains the integer , the number of students. The next  lines contains the name and marks obtained by that student separated by a space. The final line contains the name of a particular student previously listed.\n",
    "\n",
    "Constraints\n",
    "\n",
    "Output Format\n",
    "\n",
    "Print one line: The average of the marks obtained by the particular student correct to 2 decimal places."
   ]
  },
  {
   "cell_type": "code",
   "execution_count": null,
   "metadata": {},
   "outputs": [],
   "source": [
    "from statistics import mean\n",
    "\n",
    "if __name__ == '__main__':\n",
    "    n = int(input())\n",
    "    student_marks = {}\n",
    "   \n",
    "    for _ in range(n):\n",
    "        name, *line = input().split()\n",
    "        scores = list(map(float, line))\n",
    "        student_marks[name] = scores\n",
    "   \n",
    "    query_name = input()\n",
    "\n",
    "    output = mean(student_marks[query_name])\n",
    "\n",
    "    print(\"%.2f\" % output)\n"
   ]
  },
  {
   "cell_type": "markdown",
   "metadata": {},
   "source": [
    "You are given a string, and you have to validate whether it's a valid Roman numeral. If it is valid, print True. Otherwise, print False. Try to create a regular expression for a valid Roman numeral."
   ]
  },
  {
   "cell_type": "code",
   "execution_count": null,
   "metadata": {},
   "outputs": [],
   "source": [
    "regex_pattern = r\"^M{0,3}(CM|CD|D?C{0,3})(XC|XL|L?X{0,3})(IV|IX|V?I{0,3})$\"\n",
    "\n",
    "import re\n",
    "print(str(bool(re.match(regex_pattern, input()))))"
   ]
  },
  {
   "cell_type": "markdown",
   "metadata": {},
   "source": [
    "Let's dive into the interesting topic of regular expressions! You are given some input, and you are required to check whether they are valid mobile numbers.\n",
    "\n",
    "A valid mobile number is a ten digit number starting with a 7, 8, or 9."
   ]
  },
  {
   "cell_type": "code",
   "execution_count": null,
   "metadata": {},
   "outputs": [],
   "source": [
    "import fileinput\n",
    "import re\n",
    "\n",
    "for line in fileinput.input():\n",
    " \n",
    "    if fileinput.isfirstline() != True:\n",
    "\n",
    "        length = re.search(r\"^\\d{10}$\",line)\n",
    "        number = re.search(r\"(^7|^8|^9)\",line)\n",
    "\n",
    "        if length and number:\n",
    "            print('YES')\n",
    "\n",
    "        else: print('NO')"
   ]
  },
  {
   "cell_type": "markdown",
   "metadata": {},
   "source": [
    "A valid email address meets the following criteria:\n",
    "\n",
    "It's composed of a username, domain name, and extension assembled in this format: username@domain.extension\n",
    "The username starts with an English alphabetical character, and any subsequent characters consist of one or more of the following: alphanumeric characters, -,., and _.\n",
    "The domain and extension contain only English alphabetical characters.\n",
    "The extension is 1, 2, or 3 characters in length.\n",
    "Given  pairs of names and email addresses as input, print each name and email address pair having a valid email address on a new line."
   ]
  },
  {
   "cell_type": "code",
   "execution_count": null,
   "metadata": {},
   "outputs": [],
   "source": [
    "import fileinput\n",
    "import re\n",
    "import email.utils\n",
    "\n",
    "\n",
    "for line in fileinput.input():\n",
    "\n",
    "    if fileinput.isfirstline() == False:\n",
    "\n",
    "        tup = email.utils.parseaddr(line)\n",
    "\n",
    "        name = str(tup[0])\n",
    "\n",
    "        addy = str(tup[1])\n",
    "\n",
    "        output = email.utils.formataddr((name, addy))\n",
    "\n",
    "        match = re.search(r\"^[a-z][a-z0-9_\\-\\.]*@[a-z]*\\.[a-z]{1,3}$\",addy)\n",
    "        \n",
    "        if match: print(output)"
   ]
  },
  {
   "cell_type": "markdown",
   "metadata": {},
   "source": [
    "You are given  lines of CSS code. Your task is to print all valid Hex Color Codes, in order of their occurrence from top to bottom."
   ]
  },
  {
   "cell_type": "code",
   "execution_count": null,
   "metadata": {},
   "outputs": [],
   "source": [
    "import fileinput\n",
    "import re\n",
    "\n",
    "master = []\n",
    "\n",
    "for line in fileinput.input():\n",
    "\n",
    "    line = str(line)\n",
    "    line = re.sub(r\"^#\",'',line)\n",
    "    # three =  (#[0-9|A-F|a-f]{3})[';\\)] . (#[0-9|A-F|a-f]{6})[';\\)]\n",
    "    # six = #[0-9|A-F|a-f]{6})[';\\)]\n",
    "    master.extend(re.findall(r\"(#[0-9|A-F|a-f]{3})[,';\\)]|(#[0-9|A-F|a-f]{6})[,';\\)]\",line))\n",
    "\n",
    "    \n",
    "for tup in master:\n",
    "    for item in tup:\n",
    "        if item != '':\n",
    "            print(item)"
   ]
  },
  {
   "cell_type": "markdown",
   "metadata": {},
   "source": [
    "Consider a list (list = []). You can perform the following commands:\n",
    "\n",
    "insert i e: Insert integer  at position .\n",
    "print: Print the list.\n",
    "remove e: Delete the first occurrence of integer .\n",
    "append e: Insert integer  at the end of the list.\n",
    "sort: Sort the list.\n",
    "pop: Pop the last element from the list.\n",
    "reverse: Reverse the list.\n",
    "Initialize your list and read in the value of  followed by  lines of commands where each command will be of the  types listed above. Iterate through each command in order and perform the corresponding operation on your list."
   ]
  },
  {
   "cell_type": "code",
   "execution_count": null,
   "metadata": {},
   "outputs": [],
   "source": [
    "if __name__ == '__main__':\n",
    "    import fileinput\n",
    "        \n",
    "    lst = []\n",
    "\n",
    "    for line in fileinput.input():\n",
    "        \n",
    "        line = line.strip().split(' ')\n",
    "\n",
    "        if line[0] == \"insert\":\n",
    "            lst.insert(int(line[1]),int(line[2]))\n",
    "\n",
    "        if line[0] == \"print\":\n",
    "            print(lst)\n",
    "\n",
    "        if line[0] == \"remove\":\n",
    "            lst.remove(int(line[1]))\n",
    "\n",
    "        if line[0] == \"append\":\n",
    "            lst.append(int(line[1]))\n",
    "\n",
    "        if line[0] == \"sort\":\n",
    "            lst.sort()\n",
    "\n",
    "        if line[0] == \"pop\":\n",
    "            lst.pop()\n",
    "\n",
    "        if line[0] == \"reverse\":\n",
    "            lst.reverse()"
   ]
  },
  {
   "cell_type": "markdown",
   "metadata": {},
   "source": [
    "You are given a 1-D array, . Your task is to print the ,  and  of all the elements of ."
   ]
  },
  {
   "cell_type": "code",
   "execution_count": null,
   "metadata": {},
   "outputs": [],
   "source": [
    "import numpy\n",
    "\n",
    "numpy.set_printoptions(sign=' ')\n",
    "\n",
    "a = numpy.array(input().split(),float)\n",
    "\n",
    "print(numpy.floor(a))\n",
    "print(numpy.ceil(a))\n",
    "print(numpy.rint(a))\n",
    "\n",
    "# import numpy\n",
    "# import fileinput\n",
    "\n",
    "# for line in fileinput.input():\n",
    "\n",
    "#     line = line.split(' ')\n",
    "#     line = [float(item) for item in line]\n",
    "#     line = numpy.array(line)\n",
    "\n",
    "#     print(numpy.floor(line))\n",
    "#     print(numpy.ceil(line)) \n",
    "#     print(numpy.rint(line))\n"
   ]
  },
  {
   "cell_type": "markdown",
   "metadata": {},
   "source": [
    "Task\n",
    "\n",
    "You are given a 2-D array with dimensions X.\n",
    "Your task is to perform the  tool over axis  and then find the  of that result."
   ]
  },
  {
   "cell_type": "code",
   "execution_count": null,
   "metadata": {},
   "outputs": [],
   "source": [
    "import numpy\n",
    "import fileinput\n",
    "\n",
    "master = []\n",
    "\n",
    "for line in fileinput.input():\n",
    "    \n",
    "    if fileinput.isfirstline() == False:\n",
    "        \n",
    "        line = line.split(' ')\n",
    "        line = [int(item) for item in line]\n",
    "        \n",
    "        master.append(line)\n",
    "\n",
    "array = numpy.array(master)\n",
    "\n",
    "sums = numpy.sum(array, axis = 0)\n",
    "\n",
    "product = numpy.prod(sums)\n",
    "\n",
    "print(product)"
   ]
  },
  {
   "cell_type": "markdown",
   "metadata": {},
   "source": [
    "Task\n",
    "\n",
    "You are given a 2-D array with dimensions X.\n",
    "Your task is to perform the min function over axis  and then find the max of that."
   ]
  },
  {
   "cell_type": "code",
   "execution_count": null,
   "metadata": {},
   "outputs": [],
   "source": [
    "import numpy\n",
    "import fileinput\n",
    "\n",
    "master = []\n",
    "\n",
    "for line in fileinput.input():\n",
    "    if fileinput.isfirstline() == False:\n",
    "\n",
    "        line = line.split(' ')\n",
    "        line = [int(item) for item in line]\n",
    "        \n",
    "        master.append(line)\n",
    "\n",
    "mins = numpy.min(master, axis = 1)\n",
    "\n",
    "output = numpy.max(mins)\n",
    "\n",
    "print(output)"
   ]
  },
  {
   "cell_type": "markdown",
   "metadata": {},
   "source": [
    "Task\n",
    "\n",
    "You are given a 2-D array of size X.\n",
    "Your task is to find:\n",
    "\n",
    "The mean along axis \n",
    "The var along axis \n",
    "The std along axis "
   ]
  },
  {
   "cell_type": "code",
   "execution_count": null,
   "metadata": {},
   "outputs": [],
   "source": [
    "import numpy as np\n",
    "import fileinput\n",
    "\n",
    "np.set_printoptions(legacy='1.13')\n",
    "\n",
    "master = []\n",
    "\n",
    "for line in fileinput.input():\n",
    "    \n",
    "    if fileinput.isfirstline() == False:\n",
    "        \n",
    "        line = line.split(' ')\n",
    "        line = [int(item) for item in line]\n",
    "        \n",
    "        master.append(line)\n",
    "\n",
    "array = np.array(master)\n",
    "\n",
    "print(np.mean(master, axis = 1))\n",
    "print(np.var(master, axis = 0))\n",
    "print(np.std(master))"
   ]
  },
  {
   "cell_type": "markdown",
   "metadata": {},
   "source": [
    "You are given a string and your task is to swap cases. In other words, convert all lowercase letters to uppercase letters and vice versa."
   ]
  },
  {
   "cell_type": "code",
   "execution_count": null,
   "metadata": {},
   "outputs": [],
   "source": [
    "def swap_case(s):\n",
    "    return s.swapcase()\n",
    "\n",
    "if __name__ == '__main__':"
   ]
  },
  {
   "cell_type": "markdown",
   "metadata": {},
   "source": [
    "Task\n",
    "You are given a string. Split the string on a \" \" (space) delimiter and join using a - hyphen."
   ]
  },
  {
   "cell_type": "code",
   "execution_count": null,
   "metadata": {},
   "outputs": [],
   "source": [
    "def split_and_join(line):\n",
    "    return '-'.join(line.split(' '))\n",
    "\n",
    "if __name__ == '__main__':"
   ]
  },
  {
   "cell_type": "markdown",
   "metadata": {},
   "source": [
    "Read a given string, change the character at a given index and then print the modified string."
   ]
  },
  {
   "cell_type": "code",
   "execution_count": null,
   "metadata": {},
   "outputs": [],
   "source": [
    "def mutate_string(string, position, character):\n",
    "\n",
    "    return string[:int(position)] + character + string[int(position)+1:]\n",
    "\n",
    "if __name__ == '__main__':"
   ]
  },
  {
   "cell_type": "markdown",
   "metadata": {},
   "source": [
    "In this challenge, the user enters a string and a substring. You have to print the number of times that the substring occurs in the given string. String traversal will take place from left to right, not from right to left"
   ]
  },
  {
   "cell_type": "code",
   "execution_count": null,
   "metadata": {},
   "outputs": [],
   "source": [
    "def count_substring(string, sub_string):\n",
    "    \n",
    "    length = len(string)\n",
    "    window = len(sub_string)\n",
    "\n",
    "    matches = 0\n",
    "\n",
    "    for r in range(0,(length+1)-window):\n",
    "\n",
    "        check = string[0+r:window+r]\n",
    "\n",
    "        if check == sub_string:\n",
    "\n",
    "            matches += 1\n",
    "\n",
    "    return matches\n",
    "\n",
    "if __name__ == '__main__':"
   ]
  },
  {
   "cell_type": "code",
   "execution_count": null,
   "metadata": {},
   "outputs": [],
   "source": []
  },
  {
   "cell_type": "code",
   "execution_count": null,
   "metadata": {},
   "outputs": [],
   "source": []
  },
  {
   "cell_type": "code",
   "execution_count": null,
   "metadata": {},
   "outputs": [],
   "source": []
  },
  {
   "cell_type": "code",
   "execution_count": null,
   "metadata": {},
   "outputs": [],
   "source": []
  },
  {
   "cell_type": "code",
   "execution_count": null,
   "metadata": {},
   "outputs": [],
   "source": []
  },
  {
   "cell_type": "code",
   "execution_count": null,
   "metadata": {},
   "outputs": [],
   "source": []
  },
  {
   "cell_type": "code",
   "execution_count": null,
   "metadata": {},
   "outputs": [],
   "source": []
  },
  {
   "cell_type": "code",
   "execution_count": null,
   "metadata": {},
   "outputs": [],
   "source": []
  },
  {
   "cell_type": "code",
   "execution_count": null,
   "metadata": {},
   "outputs": [],
   "source": []
  },
  {
   "cell_type": "code",
   "execution_count": null,
   "metadata": {},
   "outputs": [],
   "source": []
  },
  {
   "cell_type": "code",
   "execution_count": null,
   "metadata": {},
   "outputs": [],
   "source": []
  },
  {
   "cell_type": "code",
   "execution_count": null,
   "metadata": {},
   "outputs": [],
   "source": []
  },
  {
   "cell_type": "code",
   "execution_count": null,
   "metadata": {},
   "outputs": [],
   "source": []
  },
  {
   "cell_type": "code",
   "execution_count": null,
   "metadata": {},
   "outputs": [],
   "source": []
  }
 ],
 "metadata": {
  "kernelspec": {
   "display_name": "Python 3",
   "language": "python",
   "name": "python3"
  },
  "language_info": {
   "codemirror_mode": {
    "name": "ipython",
    "version": 3
   },
   "file_extension": ".py",
   "mimetype": "text/x-python",
   "name": "python",
   "nbconvert_exporter": "python",
   "pygments_lexer": "ipython3",
   "version": "3.7.4"
  }
 },
 "nbformat": 4,
 "nbformat_minor": 2
}
