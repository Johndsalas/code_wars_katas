{
 "cells": [
  {
   "cell_type": "markdown",
   "metadata": {},
   "source": [
    "You have a record of  students. Each record contains the student's name, and their percent marks in Maths, Physics and Chemistry. The marks can be floating values. The user enters some integer  followed by the names and marks for  students. You are required to save the record in a dictionary data type. The user then enters a student's name. Output the average percentage marks obtained by that student, correct to two decimal places.\n",
    "\n",
    "Input Format\n",
    "\n",
    "The first line contains the integer , the number of students. The next  lines contains the name and marks obtained by that student separated by a space. The final line contains the name of a particular student previously listed.\n",
    "\n",
    "Constraints\n",
    "\n",
    "Output Format\n",
    "\n",
    "Print one line: The average of the marks obtained by the particular student correct to 2 decimal places."
   ]
  },
  {
   "cell_type": "code",
   "execution_count": null,
   "metadata": {},
   "outputs": [],
   "source": [
    "from statistics import mean\n",
    "\n",
    "if __name__ == '__main__':\n",
    "    n = int(input())\n",
    "    student_marks = {}\n",
    "   \n",
    "    for _ in range(n):\n",
    "        name, *line = input().split()\n",
    "        scores = list(map(float, line))\n",
    "        student_marks[name] = scores\n",
    "   \n",
    "    query_name = input()\n",
    "\n",
    "    output = mean(student_marks[query_name])\n",
    "\n",
    "    print(\"%.2f\" % output)\n"
   ]
  },
  {
   "cell_type": "markdown",
   "metadata": {},
   "source": [
    "You are given a string, and you have to validate whether it's a valid Roman numeral. If it is valid, print True. Otherwise, print False. Try to create a regular expression for a valid Roman numeral."
   ]
  },
  {
   "cell_type": "code",
   "execution_count": null,
   "metadata": {},
   "outputs": [],
   "source": [
    "regex_pattern = r\"^M{0,3}(CM|CD|D?C{0,3})(XC|XL|L?X{0,3})(IV|IX|V?I{0,3})$\"\n",
    "\n",
    "import re\n",
    "print(str(bool(re.match(regex_pattern, input()))))"
   ]
  },
  {
   "cell_type": "markdown",
   "metadata": {},
   "source": [
    "Let's dive into the interesting topic of regular expressions! You are given some input, and you are required to check whether they are valid mobile numbers.\n",
    "\n",
    "A valid mobile number is a ten digit number starting with a 7, 8, or 9."
   ]
  },
  {
   "cell_type": "code",
   "execution_count": null,
   "metadata": {},
   "outputs": [],
   "source": [
    "import fileinput\n",
    "import re\n",
    "\n",
    "for line in fileinput.input():\n",
    " \n",
    "    if fileinput.isfirstline() != True:\n",
    "\n",
    "        length = re.search(r\"^\\d{10}$\",line)\n",
    "        number = re.search(r\"(^7|^8|^9)\",line)\n",
    "\n",
    "        if length and number:\n",
    "            print('YES')\n",
    "\n",
    "        else: print('NO')"
   ]
  },
  {
   "cell_type": "markdown",
   "metadata": {},
   "source": [
    "A valid email address meets the following criteria:\n",
    "\n",
    "It's composed of a username, domain name, and extension assembled in this format: username@domain.extension\n",
    "The username starts with an English alphabetical character, and any subsequent characters consist of one or more of the following: alphanumeric characters, -,., and _.\n",
    "The domain and extension contain only English alphabetical characters.\n",
    "The extension is 1, 2, or 3 characters in length.\n",
    "Given  pairs of names and email addresses as input, print each name and email address pair having a valid email address on a new line."
   ]
  },
  {
   "cell_type": "code",
   "execution_count": null,
   "metadata": {},
   "outputs": [],
   "source": [
    "import fileinput\n",
    "import re\n",
    "import email.utils\n",
    "\n",
    "\n",
    "for line in fileinput.input():\n",
    "\n",
    "    if fileinput.isfirstline() == False:\n",
    "\n",
    "        tup = email.utils.parseaddr(line)\n",
    "\n",
    "        name = str(tup[0])\n",
    "\n",
    "        addy = str(tup[1])\n",
    "\n",
    "        output = email.utils.formataddr((name, addy))\n",
    "\n",
    "        match = re.search(r\"^[a-z][a-z0-9_\\-\\.]*@[a-z]*\\.[a-z]{1,3}$\",addy)\n",
    "        \n",
    "        if match: print(output)"
   ]
  }
 ],
 "metadata": {
  "kernelspec": {
   "display_name": "Python 3",
   "language": "python",
   "name": "python3"
  },
  "language_info": {
   "codemirror_mode": {
    "name": "ipython",
    "version": 3
   },
   "file_extension": ".py",
   "mimetype": "text/x-python",
   "name": "python",
   "nbconvert_exporter": "python",
   "pygments_lexer": "ipython3",
   "version": "3.7.4"
  }
 },
 "nbformat": 4,
 "nbformat_minor": 2
}
